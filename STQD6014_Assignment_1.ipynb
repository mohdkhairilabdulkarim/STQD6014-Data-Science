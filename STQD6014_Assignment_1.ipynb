{
  "nbformat": 4,
  "nbformat_minor": 0,
  "metadata": {
    "colab": {
      "provenance": [],
      "include_colab_link": true
    },
    "kernelspec": {
      "name": "python3",
      "display_name": "Python 3"
    },
    "language_info": {
      "name": "python"
    }
  },
  "cells": [
    {
      "cell_type": "markdown",
      "metadata": {
        "id": "view-in-github",
        "colab_type": "text"
      },
      "source": [
        "<a href=\"https://colab.research.google.com/github/mohdkhairilabdulkarim/STQD6014-Data-Science/blob/main/STQD6014_Assignment_1.ipynb\" target=\"_parent\"><img src=\"https://colab.research.google.com/assets/colab-badge.svg\" alt=\"Open In Colab\"/></a>"
      ]
    },
    {
      "cell_type": "markdown",
      "source": [
        "# **Assignment 1**"
      ],
      "metadata": {
        "id": "wAJzPiuPfytH"
      }
    },
    {
      "cell_type": "code",
      "source": [
        "# Define student names, subjects, and exam scores\n",
        "# A minimum of three different subjects\n",
        "students={\n",
        "    'hansen':{\n",
        "        'Malay': 80,\n",
        "        'History': 78,\n",
        "        'Mathematics': 76,\n",
        "    },\n",
        "    'jason':{\n",
        "        'Malay': 50,\n",
        "        'History': 67,\n",
        "        'Mathematics': 63,\n",
        "        'English': 52,\n",
        "        'Science': 53,\n",
        "    },\n",
        "    'malik':{\n",
        "        'Malay': 60,\n",
        "        'History': 70,\n",
        "        'Mathematics': 41,\n",
        "    },\n",
        "    'darmia':{\n",
        "        'Malay': 82,\n",
        "        'History': 59,\n",
        "        'Mathematics': 73,\n",
        "    },\n",
        "    'berlin':{\n",
        "        'Malay': 60,\n",
        "        'History': 82,\n",
        "        'Mathematics': 78,\n",
        "        'English': 92,\n",
        "}\n",
        "}\n"
      ],
      "metadata": {
        "id": "G61EoQtOQ9Wq"
      },
      "execution_count": null,
      "outputs": []
    },
    {
      "cell_type": "code",
      "source": [
        "# Define empty list to collect average of each student for comparison\n",
        "collected_average=[]\n",
        "\n",
        "# Define empty list to collect the name of student for print\n",
        "collected_student=[]\n",
        "\n",
        "# The starting process to display average score for each student\n",
        "print(\"Average Score for Each Student:\")\n",
        "\n",
        "# Recall keys and values to start calculating average\n",
        "for name, subject in students.items():\n",
        "\n",
        "    count=0 #to start counting the number of subject for each student\n",
        "    total=0 #to start summing the score of all subjects for each student\n",
        "\n",
        "    # Recall the score for each subject of each student\n",
        "    for score in subject.values():\n",
        "        count+=1 #to count the number of subject for each student\n",
        "        total+=score #to sum the score of all subjects for each student\n",
        "\n",
        "    # Calculate and display the average score for each student\n",
        "    average=total/count\n",
        "    print(name.title() + \": \" + str(format(average,\".2f\"))) #display average in 2 decimal places\n",
        "\n",
        "    # Append average and name of student while still in for loop\n",
        "    collected_average.append(average)\n",
        "    collected_student.append({'name':name,'average':average})\n"
      ],
      "metadata": {
        "colab": {
          "base_uri": "https://localhost:8080/"
        },
        "id": "PsUPuEYKkp4X",
        "outputId": "332c64fa-e288-417c-9973-feaa7ccd4efc"
      },
      "execution_count": null,
      "outputs": [
        {
          "output_type": "stream",
          "name": "stdout",
          "text": [
            "Average Score for Each Student:\n",
            "Hansen: 78.00\n",
            "Jason: 57.00\n",
            "Malik: 57.00\n",
            "Darmia: 71.33\n",
            "Berlin: 78.00\n"
          ]
        }
      ]
    },
    {
      "cell_type": "code",
      "source": [
        "# Identify the students with the highest score:\n",
        "\n",
        "# Display the highest average score\n",
        "print(\"Student(s) with the Highest Average Score: \" + str(format(max(collected_average),\".2f\")))\n",
        "\n",
        "for name_highest in collected_student:\n",
        "        if name_highest['average']==max(collected_average): # Multiple name can be display for the same highest average score\n",
        "            print(name_highest['name'])\n",
        "\n",
        "# Identify the students with the lowest score:\n",
        "\n",
        "# Display the lowest average score\n",
        "print(\"Student(s) with the Lowest Average Score: \" + str(format(min(collected_average),\".2f\")))\n",
        "\n",
        "for name_lowest in total_student:\n",
        "        if name_lowest['average']==min(collected_average): # Multiple name can be display for the same lowest average score\n",
        "            print(name_lowest['name'])\n"
      ],
      "metadata": {
        "colab": {
          "base_uri": "https://localhost:8080/"
        },
        "id": "iiI_zDvOlYns",
        "outputId": "329a4f7c-c9fa-4453-8c0e-b94431f96f2f"
      },
      "execution_count": null,
      "outputs": [
        {
          "output_type": "stream",
          "name": "stdout",
          "text": [
            "Student(s) with the Highest Average Score: 78.00\n",
            "Hansen\n",
            "Berlin\n",
            "Student(s) with the Lowest Average Score: 57.00\n",
            "Jason\n",
            "Malik\n"
          ]
        }
      ]
    },
    {
      "cell_type": "markdown",
      "source": [
        "# **break**"
      ],
      "metadata": {
        "id": "7HAonS10sURp"
      }
    },
    {
      "cell_type": "code",
      "source": [],
      "metadata": {
        "id": "CBR50eV0sTxl"
      },
      "execution_count": null,
      "outputs": []
    },
    {
      "cell_type": "code",
      "source": [
        "total_score=[]\n",
        "\n",
        "for x,y in students.items():\n",
        "    print(\"\\nStudent name: \" + x)\n",
        "    print(y.keys())\n",
        "    print(\"\\tSubject A score: \" + str(y['subject_A']))\n",
        "    print(\"\\tSubject B score: \" + str(y['subject_B']))\n",
        "    print(\"\\tSubject C score: \" + str(y['subject_C']))\n",
        "\n",
        "    #total score of subject\n",
        "    total=0\n",
        "    for z in y.values():\n",
        "        total+=z\n",
        "    print(total)\n",
        "\n",
        "    #Calculate and display the average score for each student\n",
        "    average=total/3\n",
        "    print(\"Average score of all subjects: \" + str(average))\n",
        "\n",
        "    #append total\n",
        "    total_score.append(total)\n",
        "\n",
        "print(max(total_score))\n",
        "print(min(total_score))\n",
        "\n",
        "    #append by subject\n",
        "\n",
        "    #Identify the students with the highest and lowest scores.\n",
        "\n",
        "    #Highest/lowest all scores\n",
        "\n",
        "    #Highest/lowest scores by subject\n",
        "\n",
        "    #Highest/lowest of average scores\n",
        "\n",
        "\n"
      ],
      "metadata": {
        "colab": {
          "base_uri": "https://localhost:8080/"
        },
        "id": "pG7WyOSijTsD",
        "outputId": "b255b497-9227-491f-fea3-7989df33b6c9"
      },
      "execution_count": null,
      "outputs": [
        {
          "output_type": "stream",
          "name": "stdout",
          "text": [
            "\n",
            "Student name: A\n",
            "dict_keys(['subject_A', 'subject_B', 'subject_C'])\n",
            "\tSubject A score: 30\n",
            "\tSubject B score: 50\n",
            "\tSubject C score: 70\n",
            "150\n",
            "Average score of all subjects: 50.0\n",
            "\n",
            "Student name: B\n",
            "dict_keys(['subject_A', 'subject_B', 'subject_C', 'subject_D'])\n",
            "\tSubject A score: 33\n",
            "\tSubject B score: 50\n",
            "\tSubject C score: 74\n",
            "229\n",
            "Average score of all subjects: 76.33333333333333\n",
            "\n",
            "Student name: C\n",
            "dict_keys(['subject_A', 'subject_B', 'subject_C'])\n",
            "\tSubject A score: 30\n",
            "\tSubject B score: 53\n",
            "\tSubject C score: 72\n",
            "155\n",
            "Average score of all subjects: 51.666666666666664\n",
            "229\n",
            "150\n"
          ]
        }
      ]
    },
    {
      "cell_type": "code",
      "source": [
        "total_score=[]\n",
        "\n",
        "for x,y in students.items():\n",
        "    print(\"\\nStudent name: \" + x)\n",
        "\n",
        "    #total score of subject\n",
        "    count=0\n",
        "    total=0\n",
        "    for z in y.values():\n",
        "        count+=1\n",
        "        total+=z\n",
        "\n",
        "    #Calculate and display the average score for each student\n",
        "    average=total/count\n",
        "    print(\"Average score of all subjects: \" + str(average))\n",
        "\n",
        "    #append total\n",
        "    total_score.append(average)\n",
        "\n",
        "print(max(total_score))\n",
        "print(min(total_score))\n",
        "\n",
        "    #append by subject\n",
        "\n",
        "    #Identify the students with the highest and lowest scores.\n",
        "\n",
        "    #Highest/lowest all scores\n",
        "\n",
        "    #Highest/lowest scores by subject\n",
        "\n",
        "    #Highest/lowest of average scores\n",
        "\n",
        "\n"
      ],
      "metadata": {
        "colab": {
          "base_uri": "https://localhost:8080/"
        },
        "id": "2UH1FTX7jeUO",
        "outputId": "2766ca5f-4cf7-412a-c32e-fdb1c1208b7a"
      },
      "execution_count": null,
      "outputs": [
        {
          "output_type": "stream",
          "name": "stdout",
          "text": [
            "\n",
            "Student name: A\n",
            "Average score of all subjects: 50.0\n",
            "\n",
            "Student name: B\n",
            "Average score of all subjects: 57.25\n",
            "\n",
            "Student name: C\n",
            "Average score of all subjects: 51.666666666666664\n",
            "57.25\n",
            "50.0\n"
          ]
        }
      ]
    }
  ]
}