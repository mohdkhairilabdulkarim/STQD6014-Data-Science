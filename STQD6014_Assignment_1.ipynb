{
  "nbformat": 4,
  "nbformat_minor": 0,
  "metadata": {
    "colab": {
      "provenance": [],
      "include_colab_link": true
    },
    "kernelspec": {
      "name": "python3",
      "display_name": "Python 3"
    },
    "language_info": {
      "name": "python"
    }
  },
  "cells": [
    {
      "cell_type": "markdown",
      "metadata": {
        "id": "view-in-github",
        "colab_type": "text"
      },
      "source": [
        "<a href=\"https://colab.research.google.com/github/mohdkhairilabdulkarim/STQD6014-Data-Science/blob/main/STQD6014_Assignment_1.ipynb\" target=\"_parent\"><img src=\"https://colab.research.google.com/assets/colab-badge.svg\" alt=\"Open In Colab\"/></a>"
      ]
    },
    {
      "cell_type": "markdown",
      "source": [
        "# **Assignment 1**"
      ],
      "metadata": {
        "id": "wAJzPiuPfytH"
      }
    },
    {
      "cell_type": "code",
      "source": [
        "# Define student names, subjects, and exam scores\n",
        "students={\n",
        "    'A':{\n",
        "        'subject_A': 30,\n",
        "        'subject_B': 50,\n",
        "        'subject_C': 70,\n",
        "    },\n",
        "    'B':{\n",
        "        'subject_A': 35,\n",
        "        'subject_B': 50,\n",
        "        'subject_C': 76,\n",
        "    },\n",
        "    'C':{\n",
        "        'subject_A': 30,\n",
        "        'subject_B': 54,\n",
        "        'subject_C': 72,\n",
        "    },\n",
        "}\n",
        "\n",
        "#Create a for loop to print a message\n",
        "#Use items() function to access the key-value pair in dictionary\n",
        "\n",
        "total_score=[]\n",
        "\n",
        "for x,y in students.items():\n",
        "    print(\"\\nStudent name: \" + x)\n",
        "    print(\"\\tSubject A score: \" + str(y['subject_A']))\n",
        "    print(\"\\tSubject B score: \" + str(y['subject_B']))\n",
        "    print(\"\\tSubject C score: \" + str(y['subject_C']))\n",
        "\n",
        "    #total score of subject\n",
        "    total=0\n",
        "    for z in y.values():\n",
        "        total+=z\n",
        "    print(total)\n",
        "    #Calculate and display the average score for each student\n",
        "    average=total/3\n",
        "    print(\"Average score of all subjects: \" + str(average))\n",
        "\n",
        "    #append total\n",
        "    total_score.append(total)\n",
        "\n",
        "print(max(total_score))\n",
        "print(min(total_score))\n",
        "\n",
        "    #append by subject\n",
        "\n",
        "    #Identify the students with the highest and lowest scores.\n",
        "\n",
        "    #Highest/lowest all scores\n",
        "\n",
        "    #Highest/lowest scores by subject\n",
        "\n",
        "    #Highest/lowest of average scores\n",
        "\n",
        "\n"
      ],
      "metadata": {
        "colab": {
          "base_uri": "https://localhost:8080/"
        },
        "id": "G61EoQtOQ9Wq",
        "outputId": "13bd30fd-808f-4bf7-eec8-afdfb702d015"
      },
      "execution_count": 43,
      "outputs": [
        {
          "output_type": "stream",
          "name": "stdout",
          "text": [
            "\n",
            "Student name: A\n",
            "\tSubject A score: 30\n",
            "\tSubject B score: 50\n",
            "\tSubject C score: 70\n",
            "150\n",
            "Average score of all subjects: 50.0\n",
            "\n",
            "Student name: B\n",
            "\tSubject A score: 35\n",
            "\tSubject B score: 50\n",
            "\tSubject C score: 76\n",
            "161\n",
            "Average score of all subjects: 53.666666666666664\n",
            "\n",
            "Student name: C\n",
            "\tSubject A score: 30\n",
            "\tSubject B score: 54\n",
            "\tSubject C score: 72\n",
            "156\n",
            "Average score of all subjects: 52.0\n",
            "161\n",
            "150\n"
          ]
        }
      ]
    }
  ]
}