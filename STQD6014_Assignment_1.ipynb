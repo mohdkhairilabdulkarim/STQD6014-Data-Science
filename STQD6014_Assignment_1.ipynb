{
  "nbformat": 4,
  "nbformat_minor": 0,
  "metadata": {
    "colab": {
      "provenance": [],
      "include_colab_link": true
    },
    "kernelspec": {
      "name": "python3",
      "display_name": "Python 3"
    },
    "language_info": {
      "name": "python"
    }
  },
  "cells": [
    {
      "cell_type": "markdown",
      "metadata": {
        "id": "view-in-github",
        "colab_type": "text"
      },
      "source": [
        "<a href=\"https://colab.research.google.com/github/mohdkhairilabdulkarim/STQD6014-Data-Science/blob/main/STQD6014_Assignment_1.ipynb\" target=\"_parent\"><img src=\"https://colab.research.google.com/assets/colab-badge.svg\" alt=\"Open In Colab\"/></a>"
      ]
    },
    {
      "cell_type": "markdown",
      "source": [
        "# **Assignment 1 (5%)**\n",
        "# **STQD6014 Sains Data**\n",
        "## **SEMESTER 1 2023/2024**\n",
        "\n",
        "\n",
        "\n",
        "\n",
        "\n"
      ],
      "metadata": {
        "id": "P6aTOdwkXWgk"
      }
    },
    {
      "cell_type": "markdown",
      "source": [
        "For this assignment, you are required to write a Python program to manage **student names** and their **exam scores** for **a minimum of three different subjects**. Your program should have the following functionalities:"
      ],
      "metadata": {
        "id": "yTitaWEdYqta"
      }
    },
    {
      "cell_type": "markdown",
      "source": [
        "1.\n",
        "Calculate and display the **average score for each student**."
      ],
      "metadata": {
        "id": "hKZXnQAkY6u5"
      }
    },
    {
      "cell_type": "markdown",
      "source": [
        "2.\n",
        "Identify the students with the **highest and lowest scores**."
      ],
      "metadata": {
        "id": "awgUvkiRZBTW"
      }
    },
    {
      "cell_type": "markdown",
      "source": [
        "Your program should be capable of handling situations where **multiple students may have the same highest or lowest score**. In such cases, the program should display the **names of all students** involved and their respective scores.\n"
      ],
      "metadata": {
        "id": "tS8WHQVXZDcY"
      }
    },
    {
      "cell_type": "markdown",
      "source": [
        "Please share your Python program with my email at bernardlkb@ukm.edu.my. The deadline for Assignment 1 submission is **2023-11-19**."
      ],
      "metadata": {
        "id": "QByOOYQIZyfT"
      }
    },
    {
      "cell_type": "markdown",
      "source": [
        "# **Student's Information**"
      ],
      "metadata": {
        "id": "lMFGmysbcCZG"
      }
    },
    {
      "cell_type": "markdown",
      "source": [
        "**Name:** Mohd Khairil Abdul Karim"
      ],
      "metadata": {
        "id": "qKpFbogybCrr"
      }
    },
    {
      "cell_type": "markdown",
      "source": [
        "**Matric No:** P133931"
      ],
      "metadata": {
        "id": "ZEahq11kbOJP"
      }
    },
    {
      "cell_type": "markdown",
      "source": [
        "**Lecturer:** Dr. Bernard Lee Kok Bang"
      ],
      "metadata": {
        "id": "xer1BY8Xb0wz"
      }
    },
    {
      "cell_type": "markdown",
      "source": [
        "# **Answer:**"
      ],
      "metadata": {
        "id": "6xxeZf7nafi5"
      }
    },
    {
      "cell_type": "markdown",
      "source": [
        "## **Task 1:** To build information of student names, subjects, and exam scores\n",
        "### (**Assumption:** Each student may have taken different number of subjects)"
      ],
      "metadata": {
        "id": "4SbLaX-8fAsz"
      }
    },
    {
      "cell_type": "code",
      "source": [
        "# Define student names, subjects, and exam scores\n",
        "# A minimum of three different subjects\n",
        "# Dictionary consists of student's name and various number of subjects taken\n",
        "# Information store in double layer of dictionary\n",
        "students={\n",
        "    'hansen':{\n",
        "        'Malay': 80,\n",
        "        'History': 78,\n",
        "        'Mathematics': 76,\n",
        "    },\n",
        "    'jason':{\n",
        "        'Malay': 50,\n",
        "        'History': 67,\n",
        "        'Mathematics': 63,\n",
        "        'English': 52,\n",
        "        'Science': 53,\n",
        "    },\n",
        "    'malik':{\n",
        "        'Malay': 60,\n",
        "        'History': 70,\n",
        "        'Mathematics': 41,\n",
        "    },\n",
        "    'darmia':{\n",
        "        'Malay': 82,\n",
        "        'History': 59,\n",
        "        'Mathematics': 73,\n",
        "    },\n",
        "    'berlin':{\n",
        "        'Malay': 60,\n",
        "        'History': 82,\n",
        "        'Mathematics': 78,\n",
        "        'English': 92,\n",
        "}\n",
        "}\n"
      ],
      "metadata": {
        "id": "G61EoQtOQ9Wq"
      },
      "execution_count": null,
      "outputs": []
    },
    {
      "cell_type": "markdown",
      "source": [
        "## **Task 2:** To calculate the average score of each student"
      ],
      "metadata": {
        "id": "1QxGiXHLfS7O"
      }
    },
    {
      "cell_type": "code",
      "source": [
        "# Define empty list to collect average score of each student for comparison\n",
        "# Will be used later when comparing min/max value\n",
        "collected_average=[]\n",
        "\n",
        "# Define empty list to collect the name of student for print\n",
        "# Will be used later when detecting which student got the min/max value\n",
        "collected_student=[]\n",
        "\n",
        "# The starting process to display average score for each student\n",
        "print(\"Average Score for Each Student:\")\n",
        "print(\"-------------------------------\")\n",
        "\n",
        "# Recall keys and values in dictionary to start calculating average\n",
        "# Using for loop to recall information one by one\n",
        "for name, subject in students.items():\n",
        "\n",
        "    count=0 #to start counting the number of subject taken by each student\n",
        "    total=0 #to start summing the score of all subjects for each student\n",
        "\n",
        "    # Recall the score for each subject of each student\n",
        "    # Using another for loop to determine the total subject taken and total score\n",
        "    for score in subject.values():\n",
        "        count+=1 #to count the number of subject taken by each student\n",
        "        total+=score #to sum the score of all subjects for each student\n",
        "\n",
        "    # Calculate and display the average score for each student\n",
        "    # Using the information from for loop above\n",
        "    average=total/count\n",
        "\n",
        "    # Display average score in 2 decimal places for standardization\n",
        "    print(name.title() + \": \" + str(format(average,\".2f\")))\n",
        "\n",
        "    # Append average and name of student while still in for loop\n",
        "    # Appended list will be used to detect min/max average score\n",
        "    collected_average.append(average)\n",
        "    collected_student.append({'name':name,'average':average})\n"
      ],
      "metadata": {
        "colab": {
          "base_uri": "https://localhost:8080/"
        },
        "id": "PsUPuEYKkp4X",
        "outputId": "e087c17a-46db-41e5-d26b-ad75454c3e33"
      },
      "execution_count": null,
      "outputs": [
        {
          "output_type": "stream",
          "name": "stdout",
          "text": [
            "Average Score for Each Student:\n",
            "-------------------------------\n",
            "Hansen: 78.00\n",
            "Jason: 57.00\n",
            "Malik: 57.00\n",
            "Darmia: 71.33\n",
            "Berlin: 78.00\n"
          ]
        }
      ]
    },
    {
      "cell_type": "markdown",
      "source": [
        "## **Task 3:** To list down the student with highest/lowest score\n",
        "###(**Assumption:** There may exist more than one student name with the same highest/lowest score)"
      ],
      "metadata": {
        "id": "jXV9AwpJgLCs"
      }
    },
    {
      "cell_type": "code",
      "source": [
        "# Identify the students with the highest score:\n",
        "\n",
        "# Display the highest average score from calcualtion\n",
        "print(\"Student(s) with the Highest Average Score \" + str(format(max(collected_average),\".2f\")) + \":\")\n",
        "print(\"-------------------------------------------------\")\n",
        "\n",
        "# Process to detect which student got the highest average score\n",
        "for name_highest in collected_student:\n",
        "        if name_highest['average']==max(collected_average): # Multiple name can be display for the same highest average score\n",
        "            print(name_highest['name'].title())\n",
        "\n",
        "# Identify the students with the lowest score:\n",
        "\n",
        "# Display the lowest average score from calculation\n",
        "print(\"\\nStudent(s) with the Lowest Average Score of \" + str(format(min(collected_average),\".2f\")) + \":\")\n",
        "print(\"--------------------------------------------------\")\n",
        "\n",
        "# Process to detect which student got the lowest average score\n",
        "for name_lowest in collected_student:\n",
        "        if name_lowest['average']==min(collected_average): # Multiple name can be display for the same lowest average score\n",
        "            print(name_lowest['name'].title())\n"
      ],
      "metadata": {
        "colab": {
          "base_uri": "https://localhost:8080/"
        },
        "id": "iiI_zDvOlYns",
        "outputId": "22be8aa1-26b2-4412-bb82-eb08cc6f931b"
      },
      "execution_count": null,
      "outputs": [
        {
          "output_type": "stream",
          "name": "stdout",
          "text": [
            "Student(s) with the Highest Average Score 78.00:\n",
            "-------------------------------------------------\n",
            "Hansen\n",
            "Berlin\n",
            "\n",
            "Student(s) with the Lowest Average Score of 57.00:\n",
            "--------------------------------------------------\n",
            "Jason\n",
            "Malik\n"
          ]
        }
      ]
    },
    {
      "cell_type": "markdown",
      "source": [
        "# **End of Answer**"
      ],
      "metadata": {
        "id": "ZIdHr_WQiaq3"
      }
    }
  ]
}