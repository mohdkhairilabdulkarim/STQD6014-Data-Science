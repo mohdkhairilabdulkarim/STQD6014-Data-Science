{
  "nbformat": 4,
  "nbformat_minor": 0,
  "metadata": {
    "colab": {
      "provenance": [],
      "include_colab_link": true
    },
    "kernelspec": {
      "name": "python3",
      "display_name": "Python 3"
    },
    "language_info": {
      "name": "python"
    }
  },
  "cells": [
    {
      "cell_type": "markdown",
      "metadata": {
        "id": "view-in-github",
        "colab_type": "text"
      },
      "source": [
        "<a href=\"https://colab.research.google.com/github/mohdkhairilabdulkarim/STQD6014-Data-Science/blob/main/STQD6014_Assignment_1.ipynb\" target=\"_parent\"><img src=\"https://colab.research.google.com/assets/colab-badge.svg\" alt=\"Open In Colab\"/></a>"
      ]
    },
    {
      "cell_type": "markdown",
      "source": [
        "# **Assignment 1**"
      ],
      "metadata": {
        "id": "wAJzPiuPfytH"
      }
    },
    {
      "cell_type": "code",
      "source": [
        "# Define student names, subjects, and exam scores\n",
        "students={\n",
        "    'A':{\n",
        "        'subject_A': 30,\n",
        "        'subject_B': 50,\n",
        "        'subject_C': 70,\n",
        "    },\n",
        "    'B':{\n",
        "        'subject_A': 33,\n",
        "        'subject_B': 50,\n",
        "        'subject_C': 74,\n",
        "        'subject_D': 72,\n",
        "    },\n",
        "    'C':{\n",
        "        'subject_A': 30,\n",
        "        'subject_B': 53,\n",
        "        'subject_C': 72,\n",
        "    },\n",
        "}\n",
        "\n",
        "#Create a for loop to print a message\n",
        "#Use items() function to access the key-value pair in dictionary\n",
        "\n",
        "\n",
        "\n"
      ],
      "metadata": {
        "id": "G61EoQtOQ9Wq"
      },
      "execution_count": 91,
      "outputs": []
    },
    {
      "cell_type": "code",
      "source": [
        "total_score=[]\n",
        "total_student=[]\n",
        "\n",
        "print(\"Average Score for Each Student:\")\n",
        "\n",
        "for x,y in students.items():\n",
        "\n",
        "    #total score of subject\n",
        "    count=0\n",
        "    total=0\n",
        "    for z in y.values():\n",
        "        count+=1\n",
        "        total+=z\n",
        "\n",
        "    #Calculate and display the average score for each student\n",
        "    average=total/count\n",
        "    print(x.title() + \": \" + str(average))\n",
        "\n",
        "    #append total\n",
        "    total_score.append(average)\n",
        "    total_student.append({'name':x,'average':average})\n"
      ],
      "metadata": {
        "colab": {
          "base_uri": "https://localhost:8080/"
        },
        "id": "PsUPuEYKkp4X",
        "outputId": "a97ae2c6-4cb9-453e-a359-89b167318c6c"
      },
      "execution_count": 92,
      "outputs": [
        {
          "output_type": "stream",
          "name": "stdout",
          "text": [
            "Average Score for Each Student:\n",
            "A: 50.0\n",
            "B: 57.25\n",
            "C: 51.666666666666664\n"
          ]
        }
      ]
    },
    {
      "cell_type": "code",
      "source": [
        "    #Identify the students with the highest and lowest scores.\n",
        "\n",
        "print(\"Student(s) with the Highest Average Score: \" + str(max(total_score)))\n",
        "\n",
        "for c in total_student:\n",
        "        if c['average']==max(total_score):\n",
        "            print(c['name'])\n",
        "\n",
        "print(\"Student(s) with the Lowest Average Score: \" + str(min(total_score)))\n",
        "\n",
        "for c in total_student:\n",
        "        if c['average']==min(total_score):\n",
        "            print(c['name'])\n",
        "\n",
        "\n",
        "    #append by subject\n",
        "\n",
        "\n",
        "    #Highest/lowest all scores\n",
        "\n",
        "    #Highest/lowest scores by subject\n",
        "\n",
        "    #Highest/lowest of average scores\n",
        "\n",
        "\n"
      ],
      "metadata": {
        "colab": {
          "base_uri": "https://localhost:8080/"
        },
        "id": "iiI_zDvOlYns",
        "outputId": "b37d2db6-3c49-47f6-962d-e427a76159d3"
      },
      "execution_count": 93,
      "outputs": [
        {
          "output_type": "stream",
          "name": "stdout",
          "text": [
            "Student(s) with the Highest Average Score: 57.25\n",
            "B\n",
            "Student(s) with the Lowest Average Score: 50.0\n",
            "A\n"
          ]
        }
      ]
    },
    {
      "cell_type": "markdown",
      "source": [
        "# **break**"
      ],
      "metadata": {
        "id": "7HAonS10sURp"
      }
    },
    {
      "cell_type": "code",
      "source": [],
      "metadata": {
        "id": "CBR50eV0sTxl"
      },
      "execution_count": null,
      "outputs": []
    },
    {
      "cell_type": "code",
      "source": [
        "total_score=[]\n",
        "\n",
        "for x,y in students.items():\n",
        "    print(\"\\nStudent name: \" + x)\n",
        "    print(y.keys())\n",
        "    print(\"\\tSubject A score: \" + str(y['subject_A']))\n",
        "    print(\"\\tSubject B score: \" + str(y['subject_B']))\n",
        "    print(\"\\tSubject C score: \" + str(y['subject_C']))\n",
        "\n",
        "    #total score of subject\n",
        "    total=0\n",
        "    for z in y.values():\n",
        "        total+=z\n",
        "    print(total)\n",
        "\n",
        "    #Calculate and display the average score for each student\n",
        "    average=total/3\n",
        "    print(\"Average score of all subjects: \" + str(average))\n",
        "\n",
        "    #append total\n",
        "    total_score.append(total)\n",
        "\n",
        "print(max(total_score))\n",
        "print(min(total_score))\n",
        "\n",
        "    #append by subject\n",
        "\n",
        "    #Identify the students with the highest and lowest scores.\n",
        "\n",
        "    #Highest/lowest all scores\n",
        "\n",
        "    #Highest/lowest scores by subject\n",
        "\n",
        "    #Highest/lowest of average scores\n",
        "\n",
        "\n"
      ],
      "metadata": {
        "colab": {
          "base_uri": "https://localhost:8080/"
        },
        "id": "pG7WyOSijTsD",
        "outputId": "b255b497-9227-491f-fea3-7989df33b6c9"
      },
      "execution_count": 34,
      "outputs": [
        {
          "output_type": "stream",
          "name": "stdout",
          "text": [
            "\n",
            "Student name: A\n",
            "dict_keys(['subject_A', 'subject_B', 'subject_C'])\n",
            "\tSubject A score: 30\n",
            "\tSubject B score: 50\n",
            "\tSubject C score: 70\n",
            "150\n",
            "Average score of all subjects: 50.0\n",
            "\n",
            "Student name: B\n",
            "dict_keys(['subject_A', 'subject_B', 'subject_C', 'subject_D'])\n",
            "\tSubject A score: 33\n",
            "\tSubject B score: 50\n",
            "\tSubject C score: 74\n",
            "229\n",
            "Average score of all subjects: 76.33333333333333\n",
            "\n",
            "Student name: C\n",
            "dict_keys(['subject_A', 'subject_B', 'subject_C'])\n",
            "\tSubject A score: 30\n",
            "\tSubject B score: 53\n",
            "\tSubject C score: 72\n",
            "155\n",
            "Average score of all subjects: 51.666666666666664\n",
            "229\n",
            "150\n"
          ]
        }
      ]
    },
    {
      "cell_type": "code",
      "source": [
        "total_score=[]\n",
        "\n",
        "for x,y in students.items():\n",
        "    print(\"\\nStudent name: \" + x)\n",
        "\n",
        "    #total score of subject\n",
        "    count=0\n",
        "    total=0\n",
        "    for z in y.values():\n",
        "        count+=1\n",
        "        total+=z\n",
        "\n",
        "    #Calculate and display the average score for each student\n",
        "    average=total/count\n",
        "    print(\"Average score of all subjects: \" + str(average))\n",
        "\n",
        "    #append total\n",
        "    total_score.append(average)\n",
        "\n",
        "print(max(total_score))\n",
        "print(min(total_score))\n",
        "\n",
        "    #append by subject\n",
        "\n",
        "    #Identify the students with the highest and lowest scores.\n",
        "\n",
        "    #Highest/lowest all scores\n",
        "\n",
        "    #Highest/lowest scores by subject\n",
        "\n",
        "    #Highest/lowest of average scores\n",
        "\n",
        "\n"
      ],
      "metadata": {
        "colab": {
          "base_uri": "https://localhost:8080/"
        },
        "id": "2UH1FTX7jeUO",
        "outputId": "2766ca5f-4cf7-412a-c32e-fdb1c1208b7a"
      },
      "execution_count": 37,
      "outputs": [
        {
          "output_type": "stream",
          "name": "stdout",
          "text": [
            "\n",
            "Student name: A\n",
            "Average score of all subjects: 50.0\n",
            "\n",
            "Student name: B\n",
            "Average score of all subjects: 57.25\n",
            "\n",
            "Student name: C\n",
            "Average score of all subjects: 51.666666666666664\n",
            "57.25\n",
            "50.0\n"
          ]
        }
      ]
    }
  ]
}