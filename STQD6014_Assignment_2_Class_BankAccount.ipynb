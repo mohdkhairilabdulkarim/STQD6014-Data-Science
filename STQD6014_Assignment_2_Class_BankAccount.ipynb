{
  "nbformat": 4,
  "nbformat_minor": 0,
  "metadata": {
    "colab": {
      "provenance": [],
      "authorship_tag": "ABX9TyNx2KdBK5SDLk1oJBNEcW0/",
      "include_colab_link": true
    },
    "kernelspec": {
      "name": "python3",
      "display_name": "Python 3"
    },
    "language_info": {
      "name": "python"
    }
  },
  "cells": [
    {
      "cell_type": "markdown",
      "metadata": {
        "id": "view-in-github",
        "colab_type": "text"
      },
      "source": [
        "<a href=\"https://colab.research.google.com/github/mohdkhairilabdulkarim/STQD6014-Data-Science/blob/main/STQD6014_Assignment_2_Class_BankAccount.ipynb\" target=\"_parent\"><img src=\"https://colab.research.google.com/assets/colab-badge.svg\" alt=\"Open In Colab\"/></a>"
      ]
    },
    {
      "cell_type": "markdown",
      "source": [
        "# **Assignment 2 (5%)**\n",
        "# **STQD6014 Sains Data**\n",
        "## **SEMESTER 1 2023/2024**"
      ],
      "metadata": {
        "id": "xcqiCr7iT4AR"
      }
    },
    {
      "cell_type": "markdown",
      "source": [
        "For this assignment, you are required to use ***class*** and save it as a ***module***. Your task involves creating a class to register a bank account with the following specifications:\n",
        "1.   Class Creation:\n",
        "\n",
        "> *   Write a class to register a bank account.\n",
        "*   The class should include **attributes** for the username, full name, IC number, city, and telephone number.\n",
        "*   The class needs to record the initial savings for that account, with a **minimum balance requirement of RM20**.\n",
        "*   The class should include various methods, such as functions for depositing money, withdrawing money, checking the balance, and closing the account. Please ensure that the minimum balance requirement is enforced when a user attempts to withdraw money.\n",
        "\n",
        "2.   Child Class Creation:\n",
        "\n",
        "> *   Consider the above class as the parent class.\n",
        "*   Note that accounts for individuals below 18 years old must be registered under one of their parents.\n",
        "*   Create a child class representing child accounts registered under their parents.\n",
        "\n",
        "3.   Testing:\n",
        "\n",
        "> *   Simulate **three scenarios** involving both the parent and child classes.\n",
        "*   Test your code under these scenarios.\n",
        "*   Display all the necessary information and attributes under each scenario.\n",
        "\n",
        "Please share your Python Notebook with my email at bernardlkb@ukm.edu.my before **2023-12- 31**."
      ],
      "metadata": {
        "id": "mJHvkoHyT7Yp"
      }
    },
    {
      "cell_type": "markdown",
      "source": [
        "# **Student's Information**\n",
        "\n",
        "**Name:** Mohd Khairil Abdul Karim\n",
        "\n",
        "**Matric No:** P133931\n",
        "\n",
        "**Lecturer:** Dr. Bernard Lee Kok Bang"
      ],
      "metadata": {
        "id": "4yR404RdT8_e"
      }
    },
    {
      "cell_type": "markdown",
      "source": [
        "# **Answer:**"
      ],
      "metadata": {
        "id": "NSgni1WOUABG"
      }
    },
    {
      "cell_type": "markdown",
      "source": [
        "## **Task:** Creating parent class and child class"
      ],
      "metadata": {
        "id": "tnSHLRZdUCtp"
      }
    },
    {
      "cell_type": "code",
      "source": [
        "class BankAccount:\n",
        "    \"\"\"A class to register a bank account.\n",
        "       The class need attributes in the following order: username, full name, IC number, age, city, telephone number, and initial savings.\n",
        "       The class will record the initial savings for that account, with a minimum balance requirement of RM20.\n",
        "       The class includes various functions, such as:\n",
        "       1) depositing money,\n",
        "       2) withdrawing money,\n",
        "       3) checking the balance,\n",
        "       4) and closing the account.\n",
        "       The minimum balance requirement of RM20 is enforced when a user attempts to withdraw money.\"\"\"\n",
        "\n",
        "    def __init__(self, username, full_name, IC, age, city, phone, initial_savings):\n",
        "        \"\"\"Initialize attributes to create a bank account for a user.\"\"\"\n",
        "\n",
        "        if age < 18:\n",
        "            print(\"Note: Accounts for individuals below 18 years old must be registered under one of their parents.\")\n",
        "            msg = input(\"Please state parent username:\")\n",
        "            self.parent_username = msg\n",
        "\n",
        "        self.username = username\n",
        "        self.full_name = full_name\n",
        "        self.IC = IC\n",
        "        self.age = age\n",
        "        self.city = city\n",
        "        self.phone = phone\n",
        "\n",
        "        if initial_savings < 20:\n",
        "            print(\"\\nInsufficient amount to open an account. Minimum requirement is RM20\")\n",
        "        else:\n",
        "            self.balance = initial_savings  # Minimum balance requirement of RM20\n",
        "\n",
        "    def deposit(self, amount):\n",
        "        \"\"\"Function to deposit money.\n",
        "           Add the given amount to the current balance.\"\"\"\n",
        "\n",
        "        self.balance += amount\n",
        "        msg = \"\\nDeposited RM\"+ str(amount) + \".\\nCurrent balance: RM\" + str(self.balance)\n",
        "        return msg\n",
        "\n",
        "    def withdraw(self, amount):\n",
        "        \"\"\"Function to withdraw money.\n",
        "           Check the minimum balance requirement of RM20 before approving any withdrawal.\"\"\"\n",
        "\n",
        "        if (self.balance - amount) >= 20:\n",
        "            self.balance -= amount\n",
        "            msg = \"\\nWithdrew RM\" + str(amount) + \".\\nCurrent balance: RM\" + str(self.balance)\n",
        "            return msg\n",
        "        else:\n",
        "            msg = \"\\nInsufficient funds to withdraw RM\" +str(amount) +\". \"\n",
        "            msg += \"\\nMinimum balance required after withdrawal is RM20.\"\n",
        "            msg += \"\\nYou can only withdraw maximum RM\" + str(self.balance - 20) + \".\"\n",
        "            return msg\n",
        "\n",
        "    def check_balance(self):\n",
        "        \"\"\"Function to check the current balance in the user account.\"\"\"\n",
        "        msg = \"\\nCurrent balance: RM\" + str(self.balance)\n",
        "        msg += \"\\nYou can withdraw maximum RM\" + str(self.balance - 20)\n",
        "        return msg\n",
        "\n",
        "    def close_account(self):\n",
        "        \"\"\"Function to close a user account and refund the money.\"\"\"\n",
        "        msg = \"\\nAccount closed. Amount refunded: RM\" + str(self.balance)\n",
        "        return msg\n",
        "\n",
        "class ChildBankAccount(BankAccount):\n",
        "    \"\"\"Represent a registration of a bank account, specific to individuals under 18 years old.\"\"\"\n",
        "    def __init__(self, parent_username, username, full_name, IC, age, city, phone, initial_savings):\n",
        "        \"\"\"Initialize attributes of the parent class.\"\"\"\n",
        "        super().__init__(username, full_name, IC, age, city, phone, initial_savings)\n",
        "        self.parent_username = parent_username"
      ],
      "metadata": {
        "id": "-V6sMAbYmSXK"
      },
      "execution_count": null,
      "outputs": []
    }
  ]
}