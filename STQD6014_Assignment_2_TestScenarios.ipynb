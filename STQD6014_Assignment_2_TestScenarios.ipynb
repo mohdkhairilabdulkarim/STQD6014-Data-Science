{
  "nbformat": 4,
  "nbformat_minor": 0,
  "metadata": {
    "colab": {
      "provenance": [],
      "authorship_tag": "ABX9TyOwakRBwV0ofLUoQdVHqL79",
      "include_colab_link": true
    },
    "kernelspec": {
      "name": "python3",
      "display_name": "Python 3"
    },
    "language_info": {
      "name": "python"
    }
  },
  "cells": [
    {
      "cell_type": "markdown",
      "metadata": {
        "id": "view-in-github",
        "colab_type": "text"
      },
      "source": [
        "<a href=\"https://colab.research.google.com/github/mohdkhairilabdulkarim/STQD6014-Data-Science/blob/main/STQD6014_Assignment_2_TestScenarios.ipynb\" target=\"_parent\"><img src=\"https://colab.research.google.com/assets/colab-badge.svg\" alt=\"Open In Colab\"/></a>"
      ]
    },
    {
      "cell_type": "markdown",
      "source": [
        "# **Assignment 2 (5%)**\n",
        "# **STQD6014 Sains Data**\n",
        "## **SEMESTER 1 2023/2024**"
      ],
      "metadata": {
        "id": "i6-Q0Sf3U7NE"
      }
    },
    {
      "cell_type": "markdown",
      "source": [
        "For this assignment, you are required to use ***class*** and save it as a ***module***. Your task involves creating a class to register a bank account with the following specifications:\n",
        "1.   Class Creation:\n",
        "\n",
        "> *   Write a class to register a bank account.\n",
        "*   The class should include **attributes** for the username, full name, IC number, city, and telephone number.\n",
        "*   The class needs to record the initial savings for that account, with a **minimum balance requirement of RM20**.\n",
        "*   The class should include various methods, such as functions for depositing money, withdrawing money, checking the balance, and closing the account. Please ensure that the minimum balance requirement is enforced when a user attempts to withdraw money.\n",
        "\n",
        "2.   Child Class Creation:\n",
        "\n",
        "> *   Consider the above class as the parent class.\n",
        "*   Note that accounts for individuals below 18 years old must be registered under one of their parents.\n",
        "*   Create a child class representing child accounts registered under their parents.\n",
        "\n",
        "3.   Testing:\n",
        "\n",
        "> *   Simulate **three scenarios** involving both the parent and child classes.\n",
        "*   Test your code under these scenarios.\n",
        "*   Display all the necessary information and attributes under each scenario.\n",
        "\n",
        "Please share your Python Notebook with my email at bernardlkb@ukm.edu.my before **2023-12- 31**."
      ],
      "metadata": {
        "id": "GCs9mp-oU-yr"
      }
    },
    {
      "cell_type": "markdown",
      "source": [
        "# **Student's Information**\n",
        "\n",
        "**Name:** Mohd Khairil Abdul Karim\n",
        "\n",
        "**Matric No:** P133931\n",
        "\n",
        "**Lecturer:** Dr. Bernard Lee Kok Bang"
      ],
      "metadata": {
        "id": "IFGlF6Y3VDgu"
      }
    },
    {
      "cell_type": "markdown",
      "source": [
        "# **Answer:**"
      ],
      "metadata": {
        "id": "7_fQiHK5VGAW"
      }
    },
    {
      "cell_type": "markdown",
      "source": [
        "## **Task 1:** Importing class"
      ],
      "metadata": {
        "id": "99q_PLBVVItB"
      }
    },
    {
      "cell_type": "code",
      "source": [
        "# Mount to Google Drive\n",
        "from google.colab import drive\n",
        "drive.mount('/content/drive')"
      ],
      "metadata": {
        "id": "jb0GiGCIIPbm",
        "colab": {
          "base_uri": "https://localhost:8080/"
        },
        "outputId": "6e01839d-78ae-47ea-d516-c94f375c7298"
      },
      "execution_count": 1,
      "outputs": [
        {
          "output_type": "stream",
          "name": "stdout",
          "text": [
            "Mounted at /content/drive\n"
          ]
        }
      ]
    },
    {
      "cell_type": "code",
      "source": [
        "# Upload name_function.py module\n",
        "from google.colab import files\n",
        "files.upload()"
      ],
      "metadata": {
        "id": "2uXx1OaTLhoA",
        "colab": {
          "base_uri": "https://localhost:8080/",
          "height": 906
        },
        "outputId": "44ca4e87-a685-4a64-f8f2-05606ef06b01"
      },
      "execution_count": 2,
      "outputs": [
        {
          "output_type": "display_data",
          "data": {
            "text/plain": [
              "<IPython.core.display.HTML object>"
            ],
            "text/html": [
              "\n",
              "     <input type=\"file\" id=\"files-7670f9cb-a598-48c9-921f-5700c8ca3b18\" name=\"files[]\" multiple disabled\n",
              "        style=\"border:none\" />\n",
              "     <output id=\"result-7670f9cb-a598-48c9-921f-5700c8ca3b18\">\n",
              "      Upload widget is only available when the cell has been executed in the\n",
              "      current browser session. Please rerun this cell to enable.\n",
              "      </output>\n",
              "      <script>// Copyright 2017 Google LLC\n",
              "//\n",
              "// Licensed under the Apache License, Version 2.0 (the \"License\");\n",
              "// you may not use this file except in compliance with the License.\n",
              "// You may obtain a copy of the License at\n",
              "//\n",
              "//      http://www.apache.org/licenses/LICENSE-2.0\n",
              "//\n",
              "// Unless required by applicable law or agreed to in writing, software\n",
              "// distributed under the License is distributed on an \"AS IS\" BASIS,\n",
              "// WITHOUT WARRANTIES OR CONDITIONS OF ANY KIND, either express or implied.\n",
              "// See the License for the specific language governing permissions and\n",
              "// limitations under the License.\n",
              "\n",
              "/**\n",
              " * @fileoverview Helpers for google.colab Python module.\n",
              " */\n",
              "(function(scope) {\n",
              "function span(text, styleAttributes = {}) {\n",
              "  const element = document.createElement('span');\n",
              "  element.textContent = text;\n",
              "  for (const key of Object.keys(styleAttributes)) {\n",
              "    element.style[key] = styleAttributes[key];\n",
              "  }\n",
              "  return element;\n",
              "}\n",
              "\n",
              "// Max number of bytes which will be uploaded at a time.\n",
              "const MAX_PAYLOAD_SIZE = 100 * 1024;\n",
              "\n",
              "function _uploadFiles(inputId, outputId) {\n",
              "  const steps = uploadFilesStep(inputId, outputId);\n",
              "  const outputElement = document.getElementById(outputId);\n",
              "  // Cache steps on the outputElement to make it available for the next call\n",
              "  // to uploadFilesContinue from Python.\n",
              "  outputElement.steps = steps;\n",
              "\n",
              "  return _uploadFilesContinue(outputId);\n",
              "}\n",
              "\n",
              "// This is roughly an async generator (not supported in the browser yet),\n",
              "// where there are multiple asynchronous steps and the Python side is going\n",
              "// to poll for completion of each step.\n",
              "// This uses a Promise to block the python side on completion of each step,\n",
              "// then passes the result of the previous step as the input to the next step.\n",
              "function _uploadFilesContinue(outputId) {\n",
              "  const outputElement = document.getElementById(outputId);\n",
              "  const steps = outputElement.steps;\n",
              "\n",
              "  const next = steps.next(outputElement.lastPromiseValue);\n",
              "  return Promise.resolve(next.value.promise).then((value) => {\n",
              "    // Cache the last promise value to make it available to the next\n",
              "    // step of the generator.\n",
              "    outputElement.lastPromiseValue = value;\n",
              "    return next.value.response;\n",
              "  });\n",
              "}\n",
              "\n",
              "/**\n",
              " * Generator function which is called between each async step of the upload\n",
              " * process.\n",
              " * @param {string} inputId Element ID of the input file picker element.\n",
              " * @param {string} outputId Element ID of the output display.\n",
              " * @return {!Iterable<!Object>} Iterable of next steps.\n",
              " */\n",
              "function* uploadFilesStep(inputId, outputId) {\n",
              "  const inputElement = document.getElementById(inputId);\n",
              "  inputElement.disabled = false;\n",
              "\n",
              "  const outputElement = document.getElementById(outputId);\n",
              "  outputElement.innerHTML = '';\n",
              "\n",
              "  const pickedPromise = new Promise((resolve) => {\n",
              "    inputElement.addEventListener('change', (e) => {\n",
              "      resolve(e.target.files);\n",
              "    });\n",
              "  });\n",
              "\n",
              "  const cancel = document.createElement('button');\n",
              "  inputElement.parentElement.appendChild(cancel);\n",
              "  cancel.textContent = 'Cancel upload';\n",
              "  const cancelPromise = new Promise((resolve) => {\n",
              "    cancel.onclick = () => {\n",
              "      resolve(null);\n",
              "    };\n",
              "  });\n",
              "\n",
              "  // Wait for the user to pick the files.\n",
              "  const files = yield {\n",
              "    promise: Promise.race([pickedPromise, cancelPromise]),\n",
              "    response: {\n",
              "      action: 'starting',\n",
              "    }\n",
              "  };\n",
              "\n",
              "  cancel.remove();\n",
              "\n",
              "  // Disable the input element since further picks are not allowed.\n",
              "  inputElement.disabled = true;\n",
              "\n",
              "  if (!files) {\n",
              "    return {\n",
              "      response: {\n",
              "        action: 'complete',\n",
              "      }\n",
              "    };\n",
              "  }\n",
              "\n",
              "  for (const file of files) {\n",
              "    const li = document.createElement('li');\n",
              "    li.append(span(file.name, {fontWeight: 'bold'}));\n",
              "    li.append(span(\n",
              "        `(${file.type || 'n/a'}) - ${file.size} bytes, ` +\n",
              "        `last modified: ${\n",
              "            file.lastModifiedDate ? file.lastModifiedDate.toLocaleDateString() :\n",
              "                                    'n/a'} - `));\n",
              "    const percent = span('0% done');\n",
              "    li.appendChild(percent);\n",
              "\n",
              "    outputElement.appendChild(li);\n",
              "\n",
              "    const fileDataPromise = new Promise((resolve) => {\n",
              "      const reader = new FileReader();\n",
              "      reader.onload = (e) => {\n",
              "        resolve(e.target.result);\n",
              "      };\n",
              "      reader.readAsArrayBuffer(file);\n",
              "    });\n",
              "    // Wait for the data to be ready.\n",
              "    let fileData = yield {\n",
              "      promise: fileDataPromise,\n",
              "      response: {\n",
              "        action: 'continue',\n",
              "      }\n",
              "    };\n",
              "\n",
              "    // Use a chunked sending to avoid message size limits. See b/62115660.\n",
              "    let position = 0;\n",
              "    do {\n",
              "      const length = Math.min(fileData.byteLength - position, MAX_PAYLOAD_SIZE);\n",
              "      const chunk = new Uint8Array(fileData, position, length);\n",
              "      position += length;\n",
              "\n",
              "      const base64 = btoa(String.fromCharCode.apply(null, chunk));\n",
              "      yield {\n",
              "        response: {\n",
              "          action: 'append',\n",
              "          file: file.name,\n",
              "          data: base64,\n",
              "        },\n",
              "      };\n",
              "\n",
              "      let percentDone = fileData.byteLength === 0 ?\n",
              "          100 :\n",
              "          Math.round((position / fileData.byteLength) * 100);\n",
              "      percent.textContent = `${percentDone}% done`;\n",
              "\n",
              "    } while (position < fileData.byteLength);\n",
              "  }\n",
              "\n",
              "  // All done.\n",
              "  yield {\n",
              "    response: {\n",
              "      action: 'complete',\n",
              "    }\n",
              "  };\n",
              "}\n",
              "\n",
              "scope.google = scope.google || {};\n",
              "scope.google.colab = scope.google.colab || {};\n",
              "scope.google.colab._files = {\n",
              "  _uploadFiles,\n",
              "  _uploadFilesContinue,\n",
              "};\n",
              "})(self);\n",
              "</script> "
            ]
          },
          "metadata": {}
        },
        {
          "output_type": "stream",
          "name": "stdout",
          "text": [
            "Saving STQD6014_Assignment_2_Class_BankAccount.ipynb to STQD6014_Assignment_2_Class_BankAccount.ipynb\n"
          ]
        },
        {
          "output_type": "execute_result",
          "data": {
            "text/plain": [
              "{'STQD6014_Assignment_2_Class_BankAccount.ipynb': b'{\\n  \"nbformat\": 4,\\n  \"nbformat_minor\": 0,\\n  \"metadata\": {\\n    \"colab\": {\\n      \"provenance\": []\\n    },\\n    \"kernelspec\": {\\n      \"name\": \"python3\",\\n      \"display_name\": \"Python 3\"\\n    },\\n    \"language_info\": {\\n      \"name\": \"python\"\\n    }\\n  },\\n  \"cells\": [\\n    {\\n      \"cell_type\": \"markdown\",\\n      \"source\": [\\n        \"# **Assignment 2 (5%)**\\\\n\",\\n        \"# **STQD6014 Sains Data**\\\\n\",\\n        \"## **SEMESTER 1 2023/2024**\"\\n      ],\\n      \"metadata\": {\\n        \"id\": \"xcqiCr7iT4AR\"\\n      }\\n    },\\n    {\\n      \"cell_type\": \"markdown\",\\n      \"source\": [\\n        \"For this assignment, you are required to use ***class*** and save it as a ***module***. Your task involves creating a class to register a bank account with the following specifications:\\\\n\",\\n        \"1.   Class Creation:\\\\n\",\\n        \"\\\\n\",\\n        \"> *   Write a class to register a bank account.\\\\n\",\\n        \"*   The class should include **attributes** for the username, full name, IC number, city, and telephone number.\\\\n\",\\n        \"*   The class needs to record the initial savings for that account, with a **minimum balance requirement of RM20**.\\\\n\",\\n        \"*   The class should include various methods, such as functions for depositing money, withdrawing money, checking the balance, and closing the account. Please ensure that the minimum balance requirement is enforced when a user attempts to withdraw money.\\\\n\",\\n        \"\\\\n\",\\n        \"2.   Child Class Creation:\\\\n\",\\n        \"\\\\n\",\\n        \"> *   Consider the above class as the parent class.\\\\n\",\\n        \"*   Note that accounts for individuals below 18 years old must be registered under one of their parents.\\\\n\",\\n        \"*   Create a child class representing child accounts registered under their parents.\\\\n\",\\n        \"\\\\n\",\\n        \"3.   Testing:\\\\n\",\\n        \"\\\\n\",\\n        \"> *   Simulate **three scenarios** involving both the parent and child classes.\\\\n\",\\n        \"*   Test your code under these scenarios.\\\\n\",\\n        \"*   Display all the necessary information and attributes under each scenario.\\\\n\",\\n        \"\\\\n\",\\n        \"Please share your Python Notebook with my email at bernardlkb@ukm.edu.my before **2023-12- 31**.\"\\n      ],\\n      \"metadata\": {\\n        \"id\": \"mJHvkoHyT7Yp\"\\n      }\\n    },\\n    {\\n      \"cell_type\": \"markdown\",\\n      \"source\": [\\n        \"# **Student\\'s Information**\\\\n\",\\n        \"\\\\n\",\\n        \"**Name:** Mohd Khairil Abdul Karim\\\\n\",\\n        \"\\\\n\",\\n        \"**Matric No:** P133931\\\\n\",\\n        \"\\\\n\",\\n        \"**Lecturer:** Dr. Bernard Lee Kok Bang\"\\n      ],\\n      \"metadata\": {\\n        \"id\": \"4yR404RdT8_e\"\\n      }\\n    },\\n    {\\n      \"cell_type\": \"markdown\",\\n      \"source\": [\\n        \"# **Answer:**\"\\n      ],\\n      \"metadata\": {\\n        \"id\": \"NSgni1WOUABG\"\\n      }\\n    },\\n    {\\n      \"cell_type\": \"markdown\",\\n      \"source\": [\\n        \"## **Task:** Creating parent class and child class\"\\n      ],\\n      \"metadata\": {\\n        \"id\": \"tnSHLRZdUCtp\"\\n      }\\n    },\\n    {\\n      \"cell_type\": \"code\",\\n      \"source\": [\\n        \"class BankAccount:\\\\n\",\\n        \"    \\\\\"\\\\\"\\\\\"A class to register a bank account.\\\\n\",\\n        \"       The class need attributes in the following order: username, full name, IC number, age, city, telephone number, and initial savings.\\\\n\",\\n        \"       The class will record the initial savings for that account, with a minimum balance requirement of RM20.\\\\n\",\\n        \"       The class includes various functions, such as:\\\\n\",\\n        \"       1) depositing money,\\\\n\",\\n        \"       2) withdrawing money,\\\\n\",\\n        \"       3) checking the balance,\\\\n\",\\n        \"       4) and closing the account.\\\\n\",\\n        \"       The minimum balance requirement of RM20 is enforced when a user attempts to withdraw money.\\\\\"\\\\\"\\\\\"\\\\n\",\\n        \"\\\\n\",\\n        \"    def __init__(self, username, full_name, IC, age, city, phone, initial_savings):\\\\n\",\\n        \"        \\\\\"\\\\\"\\\\\"Initialize attributes to create a bank account for a user.\\\\\"\\\\\"\\\\\"\\\\n\",\\n        \"\\\\n\",\\n        \"        if age < 18:\\\\n\",\\n        \"            print(\\\\\"Note: Accounts for individuals below 18 years old must be registered under one of their parents.\\\\\")\\\\n\",\\n        \"            msg = input(\\\\\"Please state parent username:\\\\\")\\\\n\",\\n        \"            self.parent_username = msg\\\\n\",\\n        \"\\\\n\",\\n        \"        self.username = username\\\\n\",\\n        \"        self.full_name = full_name\\\\n\",\\n        \"        self.IC = IC\\\\n\",\\n        \"        self.age = age\\\\n\",\\n        \"        self.city = city\\\\n\",\\n        \"        self.phone = phone\\\\n\",\\n        \"\\\\n\",\\n        \"        if initial_savings < 20:\\\\n\",\\n        \"            print(\\\\\"\\\\\\\\nInsufficient amount to open an account. Minimum requirement is RM20\\\\\")\\\\n\",\\n        \"        else:\\\\n\",\\n        \"            self.balance = initial_savings  # Minimum balance requirement of RM20\\\\n\",\\n        \"\\\\n\",\\n        \"    def deposit(self, amount):\\\\n\",\\n        \"        \\\\\"\\\\\"\\\\\"Function to deposit money.\\\\n\",\\n        \"           Add the given amount to the current balance.\\\\\"\\\\\"\\\\\"\\\\n\",\\n        \"\\\\n\",\\n        \"        self.balance += amount\\\\n\",\\n        \"        msg = \\\\\"\\\\\\\\nDeposited RM\\\\\"+ str(amount) + \\\\\".\\\\\\\\nCurrent balance: RM\\\\\" + str(self.balance)\\\\n\",\\n        \"        return msg\\\\n\",\\n        \"\\\\n\",\\n        \"    def withdraw(self, amount):\\\\n\",\\n        \"        \\\\\"\\\\\"\\\\\"Function to withdraw money.\\\\n\",\\n        \"           Check the minimum balance requirement of RM20 before approving any withdrawal.\\\\\"\\\\\"\\\\\"\\\\n\",\\n        \"\\\\n\",\\n        \"        if (self.balance - amount) >= 20:\\\\n\",\\n        \"            self.balance -= amount\\\\n\",\\n        \"            msg = \\\\\"\\\\\\\\nWithdrew RM\\\\\" + str(amount) + \\\\\".\\\\\\\\nCurrent balance: RM\\\\\" + str(self.balance)\\\\n\",\\n        \"            return msg\\\\n\",\\n        \"        else:\\\\n\",\\n        \"            msg = \\\\\"\\\\\\\\nInsufficient funds to withdraw RM\\\\\" +str(amount) +\\\\\". \\\\\"\\\\n\",\\n        \"            msg += \\\\\"\\\\\\\\nMinimum balance required after withdrawal is RM20.\\\\\"\\\\n\",\\n        \"            msg += \\\\\"\\\\\\\\nYou can only withdraw maximum RM\\\\\" + str(self.balance - 20) + \\\\\".\\\\\"\\\\n\",\\n        \"            return msg\\\\n\",\\n        \"\\\\n\",\\n        \"    def check_balance(self):\\\\n\",\\n        \"        \\\\\"\\\\\"\\\\\"Function to check the current balance in the user account.\\\\\"\\\\\"\\\\\"\\\\n\",\\n        \"        msg = \\\\\"\\\\\\\\nCurrent balance: RM\\\\\" + str(self.balance)\\\\n\",\\n        \"        msg += \\\\\"\\\\\\\\nYou can withdraw maximum RM\\\\\" + str(self.balance - 20)\\\\n\",\\n        \"        return msg\\\\n\",\\n        \"\\\\n\",\\n        \"    def close_account(self):\\\\n\",\\n        \"        \\\\\"\\\\\"\\\\\"Function to close a user account and refund the money.\\\\\"\\\\\"\\\\\"\\\\n\",\\n        \"        msg = \\\\\"\\\\\\\\nAccount closed. Amount refunded: RM\\\\\" + str(self.balance)\\\\n\",\\n        \"        return msg\\\\n\",\\n        \"\\\\n\",\\n        \"class ChildBankAccount(BankAccount):\\\\n\",\\n        \"    \\\\\"\\\\\"\\\\\"Represent a registration of a bank account, specific to individuals under 18 years old.\\\\\"\\\\\"\\\\\"\\\\n\",\\n        \"    def __init__(self, parent_username, username, full_name, IC, age, city, phone, initial_savings):\\\\n\",\\n        \"        \\\\\"\\\\\"\\\\\"Initialize attributes of the parent class.\\\\\"\\\\\"\\\\\"\\\\n\",\\n        \"        super().__init__(username, full_name, IC, age, city, phone, initial_savings)\\\\n\",\\n        \"        self.parent_username = parent_username\"\\n      ],\\n      \"metadata\": {\\n        \"id\": \"-V6sMAbYmSXK\"\\n      },\\n      \"execution_count\": null,\\n      \"outputs\": []\\n    }\\n  ]\\n}'}"
            ]
          },
          "metadata": {},
          "execution_count": 2
        }
      ]
    },
    {
      "cell_type": "code",
      "source": [
        "# Convert STQD6014_Assignment_2_Class_BankAccount.ipynb to .py format\n",
        "%%shell\n",
        "jupyter nbconvert --to python /content/STQD6014_Assignment_2_Class_BankAccount.ipynb"
      ],
      "metadata": {
        "colab": {
          "base_uri": "https://localhost:8080/"
        },
        "id": "LP35EeljQCEx",
        "outputId": "1cbabdfe-979a-454e-cf81-311eb808dc9b"
      },
      "execution_count": 3,
      "outputs": [
        {
          "output_type": "stream",
          "name": "stdout",
          "text": [
            "[NbConvertApp] Converting notebook /content/STQD6014_Assignment_2_Class_BankAccount.ipynb to python\n",
            "[NbConvertApp] Writing 4864 bytes to /content/STQD6014_Assignment_2_Class_BankAccount.py\n"
          ]
        },
        {
          "output_type": "execute_result",
          "data": {
            "text/plain": []
          },
          "metadata": {},
          "execution_count": 3
        }
      ]
    },
    {
      "cell_type": "code",
      "source": [
        "# Import class module\n",
        "from STQD6014_Assignment_2_Class_BankAccount import BankAccount\n",
        "from STQD6014_Assignment_2_Class_BankAccount import ChildBankAccount"
      ],
      "metadata": {
        "id": "eFGZ9WTLIJ2S"
      },
      "execution_count": 4,
      "outputs": []
    },
    {
      "cell_type": "markdown",
      "source": [
        "## **Task 2:** Testing scenarios#"
      ],
      "metadata": {
        "id": "qriFQ1rONWK3"
      }
    },
    {
      "cell_type": "code",
      "source": [
        "# Scenario 1: Regular account\n",
        "\n",
        "regular_account = BankAccount(\"khairil\", \"Mohd Khairil Abdul Karim\", \"851108065419\", 38, \"Kuantan\", \"0129674393\", 50)\n",
        "\n",
        "print(regular_account.check_balance())  # Output: Current balance: RM50\n",
        "print(regular_account.withdraw(25))     # Output: Withdrew RM25. Current balance: RM25\n",
        "print(regular_account.withdraw(10))     # Output: Insufficient funds.\n",
        "print(regular_account.deposit(12))      # Output: Deposited RM12. Current balance: RM37\n",
        "print(regular_account.close_account())  # Output: Account closed. Amount refunded: RM37"
      ],
      "metadata": {
        "colab": {
          "base_uri": "https://localhost:8080/"
        },
        "id": "3fztPTGso7j_",
        "outputId": "6e06556b-e780-4891-b4b4-220154a82b52"
      },
      "execution_count": 5,
      "outputs": [
        {
          "output_type": "stream",
          "name": "stdout",
          "text": [
            "\n",
            "Current balance: RM50\n",
            "You can withdraw maximum RM30\n",
            "\n",
            "Withdrew RM25.\n",
            "Current balance: RM25\n",
            "\n",
            "Insufficient funds to withdraw RM10. \n",
            "Minimum balance required after withdrawal is RM20.\n",
            "You can only withdraw maximum RM5.\n",
            "\n",
            "Deposited RM12.\n",
            "Current balance: RM37\n",
            "\n",
            "Account closed. Amount refunded: RM37\n"
          ]
        }
      ]
    },
    {
      "cell_type": "code",
      "source": [
        "# Scenario 2: Child account\n",
        "\n",
        "child_account = ChildBankAccount(\"khairil\", \"khairil_jr\", \"Mohd Khairil Jr.\", \"200701065788\", 13, \"Kuantan\", \"0129674393\", 30)\n",
        "\n",
        "print(child_account.check_balance())  # Output: Current balance: RM30\n",
        "print(child_account.withdraw(25))     # Output: Withdrew RM25. Current balance: RM25\n",
        "print(child_account.withdraw(10))     # Output: Insufficient funds.\n",
        "print(child_account.deposit(10))      # Output: Deposited RM12. Current balance: RM37\n",
        "print(child_account.close_account())  # Output: Account closed. Amount refunded: RM37"
      ],
      "metadata": {
        "colab": {
          "base_uri": "https://localhost:8080/"
        },
        "id": "tCVmMu8Go99g",
        "outputId": "6c350fd3-fed8-40da-b199-a9b17587e35a"
      },
      "execution_count": 6,
      "outputs": [
        {
          "output_type": "stream",
          "name": "stdout",
          "text": [
            "Note: Accounts for individuals below 18 years old must be registered under one of their parents.\n",
            "Please state parent username:khairil\n",
            "\n",
            "Current balance: RM30\n",
            "You can withdraw maximum RM10\n",
            "\n",
            "Insufficient funds to withdraw RM25. \n",
            "Minimum balance required after withdrawal is RM20.\n",
            "You can only withdraw maximum RM10.\n",
            "\n",
            "Withdrew RM10.\n",
            "Current balance: RM20\n",
            "\n",
            "Deposited RM10.\n",
            "Current balance: RM30\n",
            "\n",
            "Account closed. Amount refunded: RM30\n"
          ]
        }
      ]
    },
    {
      "cell_type": "code",
      "source": [
        "# Scenario 3: Child account with insufficient initial savings\n",
        "\n",
        "child_account_insufficient = ChildBankAccount(\"khairil\", \"khairil_jr\", \"Mohd Khairil Jr.\", \"200701065788\", 13, \"Kuantan\", \"0129674393\", 15)"
      ],
      "metadata": {
        "id": "6REgXCydNOoK",
        "colab": {
          "base_uri": "https://localhost:8080/"
        },
        "outputId": "9b825e8d-0925-492e-a8d3-664c64a4b094"
      },
      "execution_count": 7,
      "outputs": [
        {
          "output_type": "stream",
          "name": "stdout",
          "text": [
            "Note: Accounts for individuals below 18 years old must be registered under one of their parents.\n",
            "Please state parent username:khairil\n",
            "\n",
            "Insufficient amount to open an account. Minimum requirement is RM20\n"
          ]
        }
      ]
    },
    {
      "cell_type": "markdown",
      "source": [
        "## **Task 3:** Using pytest() function#"
      ],
      "metadata": {
        "id": "mYY03wtqL7Gd"
      }
    },
    {
      "cell_type": "code",
      "source": [
        "# Upload test_STQD6014_Assignment_2_TestScenarios.ipynb module\n",
        "from google.colab import files\n",
        "files.upload()"
      ],
      "metadata": {
        "id": "DWJ04PGEL5ij",
        "colab": {
          "base_uri": "https://localhost:8080/",
          "height": 576
        },
        "outputId": "1f9cee53-4efa-4e3f-8e2c-a3489fe14e42"
      },
      "execution_count": 8,
      "outputs": [
        {
          "output_type": "display_data",
          "data": {
            "text/plain": [
              "<IPython.core.display.HTML object>"
            ],
            "text/html": [
              "\n",
              "     <input type=\"file\" id=\"files-10fcc9f4-b8ef-4f0c-836e-f2a8343f66b3\" name=\"files[]\" multiple disabled\n",
              "        style=\"border:none\" />\n",
              "     <output id=\"result-10fcc9f4-b8ef-4f0c-836e-f2a8343f66b3\">\n",
              "      Upload widget is only available when the cell has been executed in the\n",
              "      current browser session. Please rerun this cell to enable.\n",
              "      </output>\n",
              "      <script>// Copyright 2017 Google LLC\n",
              "//\n",
              "// Licensed under the Apache License, Version 2.0 (the \"License\");\n",
              "// you may not use this file except in compliance with the License.\n",
              "// You may obtain a copy of the License at\n",
              "//\n",
              "//      http://www.apache.org/licenses/LICENSE-2.0\n",
              "//\n",
              "// Unless required by applicable law or agreed to in writing, software\n",
              "// distributed under the License is distributed on an \"AS IS\" BASIS,\n",
              "// WITHOUT WARRANTIES OR CONDITIONS OF ANY KIND, either express or implied.\n",
              "// See the License for the specific language governing permissions and\n",
              "// limitations under the License.\n",
              "\n",
              "/**\n",
              " * @fileoverview Helpers for google.colab Python module.\n",
              " */\n",
              "(function(scope) {\n",
              "function span(text, styleAttributes = {}) {\n",
              "  const element = document.createElement('span');\n",
              "  element.textContent = text;\n",
              "  for (const key of Object.keys(styleAttributes)) {\n",
              "    element.style[key] = styleAttributes[key];\n",
              "  }\n",
              "  return element;\n",
              "}\n",
              "\n",
              "// Max number of bytes which will be uploaded at a time.\n",
              "const MAX_PAYLOAD_SIZE = 100 * 1024;\n",
              "\n",
              "function _uploadFiles(inputId, outputId) {\n",
              "  const steps = uploadFilesStep(inputId, outputId);\n",
              "  const outputElement = document.getElementById(outputId);\n",
              "  // Cache steps on the outputElement to make it available for the next call\n",
              "  // to uploadFilesContinue from Python.\n",
              "  outputElement.steps = steps;\n",
              "\n",
              "  return _uploadFilesContinue(outputId);\n",
              "}\n",
              "\n",
              "// This is roughly an async generator (not supported in the browser yet),\n",
              "// where there are multiple asynchronous steps and the Python side is going\n",
              "// to poll for completion of each step.\n",
              "// This uses a Promise to block the python side on completion of each step,\n",
              "// then passes the result of the previous step as the input to the next step.\n",
              "function _uploadFilesContinue(outputId) {\n",
              "  const outputElement = document.getElementById(outputId);\n",
              "  const steps = outputElement.steps;\n",
              "\n",
              "  const next = steps.next(outputElement.lastPromiseValue);\n",
              "  return Promise.resolve(next.value.promise).then((value) => {\n",
              "    // Cache the last promise value to make it available to the next\n",
              "    // step of the generator.\n",
              "    outputElement.lastPromiseValue = value;\n",
              "    return next.value.response;\n",
              "  });\n",
              "}\n",
              "\n",
              "/**\n",
              " * Generator function which is called between each async step of the upload\n",
              " * process.\n",
              " * @param {string} inputId Element ID of the input file picker element.\n",
              " * @param {string} outputId Element ID of the output display.\n",
              " * @return {!Iterable<!Object>} Iterable of next steps.\n",
              " */\n",
              "function* uploadFilesStep(inputId, outputId) {\n",
              "  const inputElement = document.getElementById(inputId);\n",
              "  inputElement.disabled = false;\n",
              "\n",
              "  const outputElement = document.getElementById(outputId);\n",
              "  outputElement.innerHTML = '';\n",
              "\n",
              "  const pickedPromise = new Promise((resolve) => {\n",
              "    inputElement.addEventListener('change', (e) => {\n",
              "      resolve(e.target.files);\n",
              "    });\n",
              "  });\n",
              "\n",
              "  const cancel = document.createElement('button');\n",
              "  inputElement.parentElement.appendChild(cancel);\n",
              "  cancel.textContent = 'Cancel upload';\n",
              "  const cancelPromise = new Promise((resolve) => {\n",
              "    cancel.onclick = () => {\n",
              "      resolve(null);\n",
              "    };\n",
              "  });\n",
              "\n",
              "  // Wait for the user to pick the files.\n",
              "  const files = yield {\n",
              "    promise: Promise.race([pickedPromise, cancelPromise]),\n",
              "    response: {\n",
              "      action: 'starting',\n",
              "    }\n",
              "  };\n",
              "\n",
              "  cancel.remove();\n",
              "\n",
              "  // Disable the input element since further picks are not allowed.\n",
              "  inputElement.disabled = true;\n",
              "\n",
              "  if (!files) {\n",
              "    return {\n",
              "      response: {\n",
              "        action: 'complete',\n",
              "      }\n",
              "    };\n",
              "  }\n",
              "\n",
              "  for (const file of files) {\n",
              "    const li = document.createElement('li');\n",
              "    li.append(span(file.name, {fontWeight: 'bold'}));\n",
              "    li.append(span(\n",
              "        `(${file.type || 'n/a'}) - ${file.size} bytes, ` +\n",
              "        `last modified: ${\n",
              "            file.lastModifiedDate ? file.lastModifiedDate.toLocaleDateString() :\n",
              "                                    'n/a'} - `));\n",
              "    const percent = span('0% done');\n",
              "    li.appendChild(percent);\n",
              "\n",
              "    outputElement.appendChild(li);\n",
              "\n",
              "    const fileDataPromise = new Promise((resolve) => {\n",
              "      const reader = new FileReader();\n",
              "      reader.onload = (e) => {\n",
              "        resolve(e.target.result);\n",
              "      };\n",
              "      reader.readAsArrayBuffer(file);\n",
              "    });\n",
              "    // Wait for the data to be ready.\n",
              "    let fileData = yield {\n",
              "      promise: fileDataPromise,\n",
              "      response: {\n",
              "        action: 'continue',\n",
              "      }\n",
              "    };\n",
              "\n",
              "    // Use a chunked sending to avoid message size limits. See b/62115660.\n",
              "    let position = 0;\n",
              "    do {\n",
              "      const length = Math.min(fileData.byteLength - position, MAX_PAYLOAD_SIZE);\n",
              "      const chunk = new Uint8Array(fileData, position, length);\n",
              "      position += length;\n",
              "\n",
              "      const base64 = btoa(String.fromCharCode.apply(null, chunk));\n",
              "      yield {\n",
              "        response: {\n",
              "          action: 'append',\n",
              "          file: file.name,\n",
              "          data: base64,\n",
              "        },\n",
              "      };\n",
              "\n",
              "      let percentDone = fileData.byteLength === 0 ?\n",
              "          100 :\n",
              "          Math.round((position / fileData.byteLength) * 100);\n",
              "      percent.textContent = `${percentDone}% done`;\n",
              "\n",
              "    } while (position < fileData.byteLength);\n",
              "  }\n",
              "\n",
              "  // All done.\n",
              "  yield {\n",
              "    response: {\n",
              "      action: 'complete',\n",
              "    }\n",
              "  };\n",
              "}\n",
              "\n",
              "scope.google = scope.google || {};\n",
              "scope.google.colab = scope.google.colab || {};\n",
              "scope.google.colab._files = {\n",
              "  _uploadFiles,\n",
              "  _uploadFilesContinue,\n",
              "};\n",
              "})(self);\n",
              "</script> "
            ]
          },
          "metadata": {}
        },
        {
          "output_type": "stream",
          "name": "stdout",
          "text": [
            "Saving test_STQD6014_Assignment_2_TestScenarios.ipynb to test_STQD6014_Assignment_2_TestScenarios.ipynb\n"
          ]
        },
        {
          "output_type": "execute_result",
          "data": {
            "text/plain": [
              "{'test_STQD6014_Assignment_2_TestScenarios.ipynb': b'{\\n  \"nbformat\": 4,\\n  \"nbformat_minor\": 0,\\n  \"metadata\": {\\n    \"colab\": {\\n      \"provenance\": []\\n    },\\n    \"kernelspec\": {\\n      \"name\": \"python3\",\\n      \"display_name\": \"Python 3\"\\n    },\\n    \"language_info\": {\\n      \"name\": \"python\"\\n    }\\n  },\\n  \"cells\": [\\n    {\\n      \"cell_type\": \"markdown\",\\n      \"source\": [\\n        \"# **Assignment 2 (5%)**\\\\n\",\\n        \"# **STQD6014 Sains Data**\\\\n\",\\n        \"## **SEMESTER 1 2023/2024**\"\\n      ],\\n      \"metadata\": {\\n        \"id\": \"N923Y44sP5t1\"\\n      }\\n    },\\n    {\\n      \"cell_type\": \"markdown\",\\n      \"source\": [\\n        \"For this assignment, you are required to use ***class*** and save it as a ***module***. Your task involves creating a class to register a bank account with the following specifications:\\\\n\",\\n        \"1.   Class Creation:\\\\n\",\\n        \"\\\\n\",\\n        \"> *   Write a class to register a bank account.\\\\n\",\\n        \"*   The class should include **attributes** for the username, full name, IC number, city, and telephone number.\\\\n\",\\n        \"*   The class needs to record the initial savings for that account, with a **minimum balance requirement of RM20**.\\\\n\",\\n        \"*   The class should include various methods, such as functions for depositing money, withdrawing money, checking the balance, and closing the account. Please ensure that the minimum balance requirement is enforced when a user attempts to withdraw money.\\\\n\",\\n        \"\\\\n\",\\n        \"2.   Child Class Creation:\\\\n\",\\n        \"\\\\n\",\\n        \"> *   Consider the above class as the parent class.\\\\n\",\\n        \"*   Note that accounts for individuals below 18 years old must be registered under one of their parents.\\\\n\",\\n        \"*   Create a child class representing child accounts registered under their parents.\\\\n\",\\n        \"\\\\n\",\\n        \"3.   Testing:\\\\n\",\\n        \"\\\\n\",\\n        \"> *   Simulate **three scenarios** involving both the parent and child classes.\\\\n\",\\n        \"*   Test your code under these scenarios.\\\\n\",\\n        \"*   Display all the necessary information and attributes under each scenario.\\\\n\",\\n        \"\\\\n\",\\n        \"Please share your Python Notebook with my email at bernardlkb@ukm.edu.my before **2023-12- 31**.\"\\n      ],\\n      \"metadata\": {\\n        \"id\": \"G129-zqRP8f3\"\\n      }\\n    },\\n    {\\n      \"cell_type\": \"markdown\",\\n      \"source\": [\\n        \"# **Student\\'s Information**\\\\n\",\\n        \"\\\\n\",\\n        \"**Name:** Mohd Khairil Abdul Karim\\\\n\",\\n        \"\\\\n\",\\n        \"**Matric No:** P133931\\\\n\",\\n        \"\\\\n\",\\n        \"**Lecturer:** Dr. Bernard Lee Kok Bang\"\\n      ],\\n      \"metadata\": {\\n        \"id\": \"Z8u4PyuISjaa\"\\n      }\\n    },\\n    {\\n      \"cell_type\": \"markdown\",\\n      \"source\": [\\n        \"# **Answer:**\"\\n      ],\\n      \"metadata\": {\\n        \"id\": \"bTJXe6OSTKFd\"\\n      }\\n    },\\n    {\\n      \"cell_type\": \"markdown\",\\n      \"source\": [\\n        \"## **Task:** Creating pytest\"\\n      ],\\n      \"metadata\": {\\n        \"id\": \"Z4dt9SS3TLIa\"\\n      }\\n    },\\n    {\\n      \"cell_type\": \"code\",\\n      \"source\": [\\n        \"import pytest\\\\n\",\\n        \"from STQD6014_Assignment_2_Class_BankAccount import BankAccount\\\\n\",\\n        \"\\\\n\",\\n        \"def test_withdrawal():\\\\n\",\\n        \"    \\\\\"\\\\\"\\\\\"Test that checks the minimum balance requirement of RM20 before approving any withdrawal.\\\\\"\\\\\"\\\\\"\\\\n\",\\n        \"    # Creating a BankAccount instance for testing\\\\n\",\\n        \"    account = BankAccount(\\\\\"test_user\\\\\", \\\\\"Test User\\\\\", \\\\\"861230065432\\\\\", 25, \\\\\"Test City\\\\\", \\\\\"0123456789\\\\\", 50)\\\\n\",\\n        \"\\\\n\",\\n        \"    # Checking withdrawal with an amount that satisfies the minimum balance requirement\\\\n\",\\n        \"    withdrawal_msg = account.withdraw(20)\\\\n\",\\n        \"    assert \\\\\"Withdrew RM20.\\\\\" in withdrawal_msg\\\\n\",\\n        \"\\\\n\",\\n        \"    # Checking withdrawal with an amount that does not satisfy the minimum balance requirement\\\\n\",\\n        \"    withdrawal_msg = account.withdraw(40)\\\\n\",\\n        \"    assert \\\\\"Insufficient funds to withdraw RM40.\\\\\" in withdrawal_msg\\\\n\",\\n        \"    assert \\\\\"Minimum balance required after withdrawal is RM20.\\\\\" in withdrawal_msg\\\\n\",\\n        \"    assert \\\\\"You can only withdraw maximum RM\\\\\" + str(account.balance - 20) + \\\\\".\\\\\" in withdrawal_msg\"\\n      ],\\n      \"metadata\": {\\n        \"id\": \"ex8X8M0aO7cq\"\\n      },\\n      \"execution_count\": null,\\n      \"outputs\": []\\n    }\\n  ]\\n}'}"
            ]
          },
          "metadata": {},
          "execution_count": 8
        }
      ]
    },
    {
      "cell_type": "code",
      "source": [
        "# Convert the test code -> test_STQD6014_Assignment_2_TestScenarios.ipynb to .py format\n",
        "%%shell\n",
        "jupyter nbconvert --to python /content/test_STQD6014_Assignment_2_TestScenarios.ipynb"
      ],
      "metadata": {
        "id": "qXoe9N5oMBL_",
        "colab": {
          "base_uri": "https://localhost:8080/"
        },
        "outputId": "ba803477-27e9-48aa-e171-91fa8c237f91"
      },
      "execution_count": 9,
      "outputs": [
        {
          "output_type": "stream",
          "name": "stdout",
          "text": [
            "[NbConvertApp] Converting notebook /content/test_STQD6014_Assignment_2_TestScenarios.ipynb to python\n",
            "[NbConvertApp] Writing 2613 bytes to /content/test_STQD6014_Assignment_2_TestScenarios.py\n"
          ]
        },
        {
          "output_type": "execute_result",
          "data": {
            "text/plain": []
          },
          "metadata": {},
          "execution_count": 9
        }
      ]
    },
    {
      "cell_type": "code",
      "source": [
        "# Install the pytest library if you haven't\n",
        "!pip install pytest"
      ],
      "metadata": {
        "id": "ugftpyVFMXb-",
        "colab": {
          "base_uri": "https://localhost:8080/"
        },
        "outputId": "37e7bfcf-1706-4a4b-c914-d38fdc197490"
      },
      "execution_count": 10,
      "outputs": [
        {
          "output_type": "stream",
          "name": "stdout",
          "text": [
            "Requirement already satisfied: pytest in /usr/local/lib/python3.10/dist-packages (7.4.3)\n",
            "Requirement already satisfied: iniconfig in /usr/local/lib/python3.10/dist-packages (from pytest) (2.0.0)\n",
            "Requirement already satisfied: packaging in /usr/local/lib/python3.10/dist-packages (from pytest) (23.2)\n",
            "Requirement already satisfied: pluggy<2.0,>=0.12 in /usr/local/lib/python3.10/dist-packages (from pytest) (1.3.0)\n",
            "Requirement already satisfied: exceptiongroup>=1.0.0rc8 in /usr/local/lib/python3.10/dist-packages (from pytest) (1.2.0)\n",
            "Requirement already satisfied: tomli>=1.0.0 in /usr/local/lib/python3.10/dist-packages (from pytest) (2.0.1)\n"
          ]
        }
      ]
    },
    {
      "cell_type": "code",
      "source": [
        "# Run pytest using test_STQD6014_Assignment_2_TestScenarios.py\n",
        "!pytest /content/test_STQD6014_Assignment_2_TestScenarios.py"
      ],
      "metadata": {
        "id": "4JoeWc5bMahq",
        "colab": {
          "base_uri": "https://localhost:8080/"
        },
        "outputId": "49403b04-4989-4ccf-862b-943dd7c7f240"
      },
      "execution_count": 11,
      "outputs": [
        {
          "output_type": "stream",
          "name": "stdout",
          "text": [
            "\u001b[1m======================================= test session starts ========================================\u001b[0m\n",
            "platform linux -- Python 3.10.12, pytest-7.4.3, pluggy-1.3.0\n",
            "rootdir: /content\n",
            "plugins: anyio-3.7.1\n",
            "\u001b[1mcollecting ... \u001b[0m\u001b[1m\rcollected 1 item                                                                                   \u001b[0m\n",
            "\n",
            "test_STQD6014_Assignment_2_TestScenarios.py \u001b[32m.\u001b[0m\u001b[32m                                                [100%]\u001b[0m\n",
            "\n",
            "\u001b[32m======================================== \u001b[32m\u001b[1m1 passed\u001b[0m\u001b[32m in 0.05s\u001b[0m\u001b[32m =========================================\u001b[0m\n"
          ]
        }
      ]
    }
  ]
}