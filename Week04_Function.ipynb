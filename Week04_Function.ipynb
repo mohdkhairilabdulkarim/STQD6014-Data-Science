{
  "nbformat": 4,
  "nbformat_minor": 0,
  "metadata": {
    "colab": {
      "provenance": [],
      "include_colab_link": true
    },
    "kernelspec": {
      "name": "python3",
      "display_name": "Python 3"
    },
    "language_info": {
      "name": "python"
    }
  },
  "cells": [
    {
      "cell_type": "markdown",
      "metadata": {
        "id": "view-in-github",
        "colab_type": "text"
      },
      "source": [
        "<a href=\"https://colab.research.google.com/github/mohdkhairilabdulkarim/STQD6014-Data-Science/blob/main/Week04_Function.ipynb\" target=\"_parent\"><img src=\"https://colab.research.google.com/assets/colab-badge.svg\" alt=\"Open In Colab\"/></a>"
      ]
    },
    {
      "cell_type": "markdown",
      "source": [
        "# **Week 04: Function**"
      ],
      "metadata": {
        "id": "xDWtjtCRv5nM"
      }
    },
    {
      "cell_type": "markdown",
      "source": [
        "# **Exercise 1**: Define a function, as well as adding in ***docstring***"
      ],
      "metadata": {
        "id": "IlALFMKBxFxq"
      }
    },
    {
      "cell_type": "code",
      "execution_count": 6,
      "metadata": {
        "id": "IkiFITWFAN5g"
      },
      "outputs": [],
      "source": [
        "# Define a greet_user function\n",
        "# Use the docstring in triple quotes to explain what your function would like to do\n",
        "# Always remember to put this docstring\n",
        "\n",
        "def greet_user():\n",
        "    \"\"\"Diplay a simple greeting.\"\"\"\n",
        "    print(\"Hello!\")"
      ]
    },
    {
      "cell_type": "code",
      "source": [
        "# Call the greet_user function\n",
        "greet_user()"
      ],
      "metadata": {
        "colab": {
          "base_uri": "https://localhost:8080/"
        },
        "id": "Ck9cmWJQ8nI9",
        "outputId": "497ddd29-9700-40f0-ebf4-04da325b0eca"
      },
      "execution_count": 5,
      "outputs": [
        {
          "output_type": "stream",
          "name": "stdout",
          "text": [
            "Hello!\n"
          ]
        }
      ]
    },
    {
      "cell_type": "code",
      "source": [
        "# Looking for documentaton about greet_user() function\n",
        "help(greet_user)"
      ],
      "metadata": {
        "colab": {
          "base_uri": "https://localhost:8080/"
        },
        "id": "KzV124pFQvMf",
        "outputId": "1b8e2dae-4938-44d7-8300-8d6feac41779"
      },
      "execution_count": 9,
      "outputs": [
        {
          "output_type": "stream",
          "name": "stdout",
          "text": [
            "Help on function greet_user in module __main__:\n",
            "\n",
            "greet_user()\n",
            "    Diplay a simple greeting\n",
            "\n"
          ]
        }
      ]
    },
    {
      "cell_type": "markdown",
      "source": [
        "# **Docstring**\n",
        "A Python docstring is a string used to document a Python module, class, function or method, so programmers can understand what it does without having to read the details of the implementation. Please visit this link for more information about docstring: https://pandas.pydata.org/docs/development/contributing_docstring.html"
      ],
      "metadata": {
        "id": "PRMGVvQhyDzY"
      }
    },
    {
      "cell_type": "markdown",
      "source": [
        "# **Exercise 2**: Passing *parameter* and *arguments* to a Function"
      ],
      "metadata": {
        "id": "cfszVmi5xi80"
      }
    },
    {
      "cell_type": "code",
      "source": [
        "# Define a greet_user function\n",
        "# Add parameter to the greet_user function\n",
        "def greet_user(username):\n",
        "    \"\"\"Display a simple greting.\"\"\"\n",
        "    print(\"Hello \" + username.title() + \"!\")\n",
        "\n",
        "# Provide an argument for the greet_user() function\n",
        "greet_user(\"afiqah\") # Afiqah here is an argument"
      ],
      "metadata": {
        "colab": {
          "base_uri": "https://localhost:8080/"
        },
        "id": "UP1WYL-vB5nr",
        "outputId": "076983a2-ab29-4be4-fa53-1471f42d67d8"
      },
      "execution_count": 12,
      "outputs": [
        {
          "output_type": "stream",
          "name": "stdout",
          "text": [
            "Hello Afiqah!\n"
          ]
        }
      ]
    },
    {
      "cell_type": "markdown",
      "source": [
        "# **Exercise 3**: Positional Arguments"
      ],
      "metadata": {
        "id": "WGpVqCD4zy0i"
      }
    },
    {
      "cell_type": "code",
      "source": [
        "# Define a describe_pet function\n",
        "def describe_pet(animal_type, pet_name):\n",
        "    \"\"\"Display information about a pet.\"\"\"\n",
        "    print(\"I have a \" + animal_type + \".\")\n",
        "    print(\"My \" + animal_type + \"'s name is \" + pet_name.title() + \".\\n\")"
      ],
      "metadata": {
        "id": "-IRdYt6QFcCx"
      },
      "execution_count": 13,
      "outputs": []
    },
    {
      "cell_type": "code",
      "source": [
        "# Test the describe_pet function\n",
        "# The order of the positional arguments matters\n",
        "describe_pet(\"thompson\",\"goldfish\") # order of the positional argument is important"
      ],
      "metadata": {
        "colab": {
          "base_uri": "https://localhost:8080/"
        },
        "id": "PEXMbSAN-iBU",
        "outputId": "abbe5999-10fc-4e2d-a2a3-63931ee0b373"
      },
      "execution_count": 16,
      "outputs": [
        {
          "output_type": "stream",
          "name": "stdout",
          "text": [
            "I have a thompson.\n",
            "My thompson's name is Goldfish.\n",
            "\n"
          ]
        }
      ]
    },
    {
      "cell_type": "code",
      "source": [
        "# To solve the above error\n",
        "describe_pet(\"goldfish\",\"thompson\")"
      ],
      "metadata": {
        "colab": {
          "base_uri": "https://localhost:8080/"
        },
        "id": "54K4tmcUTPCb",
        "outputId": "747430f9-285c-485e-e03a-3fcd1c0e9bd3"
      },
      "execution_count": 17,
      "outputs": [
        {
          "output_type": "stream",
          "name": "stdout",
          "text": [
            "I have a goldfish.\n",
            "My goldfish's name is Thompson.\n",
            "\n"
          ]
        }
      ]
    },
    {
      "cell_type": "code",
      "source": [
        "# Getting help on the describe_pet function\n",
        "help(describe_pet)"
      ],
      "metadata": {
        "colab": {
          "base_uri": "https://localhost:8080/"
        },
        "id": "oxhFylyf-8eU",
        "outputId": "b32bd9a1-3856-447d-fc3c-41e81988d9cb"
      },
      "execution_count": 18,
      "outputs": [
        {
          "output_type": "stream",
          "name": "stdout",
          "text": [
            "Help on function describe_pet in module __main__:\n",
            "\n",
            "describe_pet(animal_type, pet_name)\n",
            "    Display information about a pet.\n",
            "\n"
          ]
        }
      ]
    },
    {
      "cell_type": "markdown",
      "source": [
        "# **Exercise 4**: Keyword arguments"
      ],
      "metadata": {
        "id": "ZViIdqbl0605"
      }
    },
    {
      "cell_type": "code",
      "source": [
        "# Define the describe_pet function\n",
        "def describe_pet(animal_type, pet_name):\n",
        "    \"\"\"Display information about a pet.\"\"\"\n",
        "    print(\"I have a \" + animal_type + \".\")\n",
        "    print(\"My \" + animal_type + \"'s name is \" + pet_name.title() + \".\\n\")"
      ],
      "metadata": {
        "id": "XVdLsYeJH2qR"
      },
      "execution_count": 19,
      "outputs": []
    },
    {
      "cell_type": "code",
      "source": [
        "# Define the argument explicitly\n",
        "# In this case, the order of the argument do not matter\n",
        "describe_pet(pet_name=\"harry\", animal_type=\"hamster\")"
      ],
      "metadata": {
        "id": "mvGOJlm4_thO",
        "colab": {
          "base_uri": "https://localhost:8080/"
        },
        "outputId": "32313414-9ac6-4700-d8f0-bc2e417ca7e1"
      },
      "execution_count": 22,
      "outputs": [
        {
          "output_type": "stream",
          "name": "stdout",
          "text": [
            "I have a hamster.\n",
            "My hamster's name is Harry.\n",
            "\n"
          ]
        }
      ]
    },
    {
      "cell_type": "markdown",
      "source": [
        "# **Exercise 5**: Default values"
      ],
      "metadata": {
        "id": "SFOVF2k25L-o"
      }
    },
    {
      "cell_type": "code",
      "source": [
        "# Adding default value for parameter in a function\n",
        "# Parameter with a default value needs to be listed after all the parameters that don’t have default values\n",
        "def describe_pet(pet_name, animal_type=\"lion\"):\n",
        "    \"\"\"Display information about a pet.\"\"\"\n",
        "    print(\"I have a \" + animal_type + \".\")\n",
        "    print(\"My \" + animal_type + \"'s name is \" + pet_name.title() + \".\\n\")"
      ],
      "metadata": {
        "id": "BNvwMSVwIlI4"
      },
      "execution_count": 23,
      "outputs": []
    },
    {
      "cell_type": "code",
      "source": [
        "# Order of the positional argument matter\n",
        "describe_pet(pet_name=\"simba\")\n",
        "\n"
      ],
      "metadata": {
        "colab": {
          "base_uri": "https://localhost:8080/"
        },
        "id": "PCtQ7DW7BJjU",
        "outputId": "938cced6-a505-405b-d2f1-2365223a952e"
      },
      "execution_count": 24,
      "outputs": [
        {
          "output_type": "stream",
          "name": "stdout",
          "text": [
            "I have a lion.\n",
            "My lion's name is Simba.\n",
            "\n"
          ]
        }
      ]
    },
    {
      "cell_type": "code",
      "source": [
        "# Order of the positional argument matter\n",
        "describe_pet(\"goldie\")"
      ],
      "metadata": {
        "colab": {
          "base_uri": "https://localhost:8080/"
        },
        "id": "XdNov8aeUw4H",
        "outputId": "a2484926-e5e9-47ea-cbc1-763ec072a9e2"
      },
      "execution_count": 28,
      "outputs": [
        {
          "output_type": "stream",
          "name": "stdout",
          "text": [
            "I have a lion.\n",
            "My lion's name is Goldie.\n",
            "\n"
          ]
        }
      ]
    },
    {
      "cell_type": "code",
      "source": [
        "# Solve the above error\n",
        "describe_pet(\"goldie\",\"goldfish\")"
      ],
      "metadata": {
        "colab": {
          "base_uri": "https://localhost:8080/"
        },
        "id": "7EeTM-T8VIwj",
        "outputId": "67131809-4cae-4e30-ae37-fe2099880eec"
      },
      "execution_count": 29,
      "outputs": [
        {
          "output_type": "stream",
          "name": "stdout",
          "text": [
            "I have a goldfish.\n",
            "My goldfish's name is Goldie.\n",
            "\n"
          ]
        }
      ]
    },
    {
      "cell_type": "code",
      "source": [
        "# Another example\n",
        "# Provide argument value in the correct order\n",
        "describe_pet(\"cat\",\"Coco\")"
      ],
      "metadata": {
        "colab": {
          "base_uri": "https://localhost:8080/"
        },
        "id": "cM9TMx0WKe3L",
        "outputId": "6965a22e-a825-4e91-981d-3c2261696066"
      },
      "execution_count": 30,
      "outputs": [
        {
          "output_type": "stream",
          "name": "stdout",
          "text": [
            "I have a Coco.\n",
            "My Coco's name is Cat.\n",
            "\n"
          ]
        }
      ]
    },
    {
      "cell_type": "markdown",
      "source": [
        "# **Exercise 6**: Provide a variable where the *return value* can be stored."
      ],
      "metadata": {
        "id": "9Qv0uwI18l_K"
      }
    },
    {
      "cell_type": "code",
      "source": [
        "# Define a function named get_formatted_name\n",
        "# This function will return a value\n",
        "def get_formatted_name(first_name,last_name):\n",
        "    \"\"\"Return a full name, neatly formatted\"\"\"\n",
        "    full_name=first_name + \" \" + last_name  #full_name here is the variable to store the name of the users\n",
        "    return full_name.title()"
      ],
      "metadata": {
        "id": "fjWqvKIJLkit"
      },
      "execution_count": 31,
      "outputs": []
    },
    {
      "cell_type": "code",
      "source": [
        "# Test the get_formatted_name function\n",
        "# Provide a variable for the returned full name\n",
        "musician=get_formatted_name(\"bernard\",\"lee\")\n",
        "print(musician)"
      ],
      "metadata": {
        "id": "IapBx7AgCHe8",
        "colab": {
          "base_uri": "https://localhost:8080/"
        },
        "outputId": "409dfc78-09e0-4bac-e6c7-9a9a2815db3f"
      },
      "execution_count": 32,
      "outputs": [
        {
          "output_type": "stream",
          "name": "stdout",
          "text": [
            "Bernard Lee\n"
          ]
        }
      ]
    },
    {
      "cell_type": "markdown",
      "source": [
        "# **Exercise 7**: Making an argument optional"
      ],
      "metadata": {
        "id": "Z6mRZXQH9azm"
      }
    },
    {
      "cell_type": "code",
      "source": [
        "# Default value always goes last!\n",
        "# Use if-else statement\n",
        "def get_formatted_name(first_name,last_name, middle_name=\"\"):\n",
        "    \"\"\"Return a full name, neatly formatted\"\"\"\n",
        "    if middle_name:\n",
        "        full_name=first_name + \" \" + middle_name + \" \" + last_name\n",
        "    else:\n",
        "        full_name=first_name + \" \" + last_name\n",
        "\n",
        "    return full_name.title()"
      ],
      "metadata": {
        "id": "Q8AyJMlZM5MA"
      },
      "execution_count": 33,
      "outputs": []
    },
    {
      "cell_type": "code",
      "source": [
        "# Function call 1\n",
        "musician=get_formatted_name(\"bernard\",\"lee\")\n",
        "print(musician)"
      ],
      "metadata": {
        "colab": {
          "base_uri": "https://localhost:8080/"
        },
        "id": "QMS7Cp88Dqcz",
        "outputId": "603e4422-8754-43a2-d7b8-d1c0fab121ca"
      },
      "execution_count": 34,
      "outputs": [
        {
          "output_type": "stream",
          "name": "stdout",
          "text": [
            "Bernard Lee\n"
          ]
        }
      ]
    },
    {
      "cell_type": "code",
      "source": [
        "# Function call 2\n",
        "musician=get_formatted_name(\"john\",\"hooker\",\"lee\")\n",
        "print(musician)"
      ],
      "metadata": {
        "colab": {
          "base_uri": "https://localhost:8080/"
        },
        "id": "VYYeL31nXd5l",
        "outputId": "be768c27-b232-4387-fa89-b87e1b39648f"
      },
      "execution_count": 35,
      "outputs": [
        {
          "output_type": "stream",
          "name": "stdout",
          "text": [
            "John Lee Hooker\n"
          ]
        }
      ]
    },
    {
      "cell_type": "markdown",
      "source": [
        "# **Exercise 8**: Returning a dictionary"
      ],
      "metadata": {
        "id": "lLlDqDvrjj2R"
      }
    },
    {
      "cell_type": "code",
      "source": [
        "# Define a function named build_person\n",
        "def build_person(first_name, last_name):\n",
        "    \"\"\"Return a dictionary information about a person profile\"\"\"\n",
        "    person={\"first\":first_name, \"last\":last_name}\n",
        "    return person"
      ],
      "metadata": {
        "id": "HEvTY8j3ZQAD"
      },
      "execution_count": 36,
      "outputs": []
    },
    {
      "cell_type": "code",
      "source": [
        "# Test the build_person function\n",
        "# Create a variable named musician to collect information\n",
        "musician=build_person(\"bernard\",\"lee\")\n",
        "print(musician)"
      ],
      "metadata": {
        "colab": {
          "base_uri": "https://localhost:8080/"
        },
        "id": "M_d_w2FCEtes",
        "outputId": "fa7e33ff-e5e8-407f-ab2f-5ce4a7aa0187"
      },
      "execution_count": 38,
      "outputs": [
        {
          "output_type": "stream",
          "name": "stdout",
          "text": [
            "{'first': 'bernard', 'last': 'lee'}\n"
          ]
        }
      ]
    },
    {
      "cell_type": "markdown",
      "source": [
        "# **Exercise 9**: accept optional values"
      ],
      "metadata": {
        "id": "KjYU_2E-kYON"
      }
    },
    {
      "cell_type": "code",
      "source": [
        "# Define the build_person function\n",
        "# Add in optional parameter age using if-else statement\n",
        "def build_person(first_name, last_name,age=\"\"):\n",
        "    \"\"\"Return a dictionary information about a person profile\"\"\"\n",
        "    person={\"first\":first_name, \"last\":last_name}\n",
        "\n",
        "    if age:\n",
        "        person['age']=age\n",
        "\n",
        "    return person"
      ],
      "metadata": {
        "id": "K75cMUYJZ0eD"
      },
      "execution_count": 40,
      "outputs": []
    },
    {
      "cell_type": "code",
      "source": [
        "# Test the build_person function\n",
        "musician=build_person(\"bernard\",\"lee\",17)\n",
        "print(musician)"
      ],
      "metadata": {
        "colab": {
          "base_uri": "https://localhost:8080/"
        },
        "id": "iDs2WAEAFbeN",
        "outputId": "aa03a76c-f821-4b1f-bdd0-4f219b65d550"
      },
      "execution_count": 41,
      "outputs": [
        {
          "output_type": "stream",
          "name": "stdout",
          "text": [
            "{'first': 'bernard', 'last': 'lee', 'age': 17}\n"
          ]
        }
      ]
    },
    {
      "cell_type": "code",
      "source": [
        "musician=build_person(\"bernard\",\"lee\")\n",
        "print(musician)"
      ],
      "metadata": {
        "colab": {
          "base_uri": "https://localhost:8080/"
        },
        "id": "zTojz_wqZJQv",
        "outputId": "ea0e431b-e9a3-453e-eb3b-49d99d2c1d49"
      },
      "execution_count": 42,
      "outputs": [
        {
          "output_type": "stream",
          "name": "stdout",
          "text": [
            "{'first': 'bernard', 'last': 'lee'}\n"
          ]
        }
      ]
    },
    {
      "cell_type": "markdown",
      "source": [
        "# **Exercise 10**: Using a Function with a while loop"
      ],
      "metadata": {
        "id": "CX7_XJIHlMu5"
      }
    },
    {
      "cell_type": "code",
      "source": [
        "# Define the get_formatted_name function\n",
        "def get_formatted_name(first_name,last_name):\n",
        "    \"\"\"Return a full name, neatly formatted\"\"\"\n",
        "    full_name=first_name + \" \" + last_name\n",
        "    return full_name.title()\n",
        "\n",
        "# Create an infinite loop!\n",
        "while True:\n",
        "    print(\"\\nPlease tell me your name: \")\n",
        "    print(\"enter 'q' at any time to quit)\")\n",
        "\n",
        "    f_name=input(\"First name: \")\n",
        "    if f_name=='q':\n",
        "        break\n",
        "\n",
        "    l_name=input(\"Last name: \")\n",
        "    if l_name=='q':\n",
        "        break\n",
        "\n",
        "    formatted_name=get_formatted_name(f_name,l_name) #overwrite first_name and last_name in get_formatted_name\n",
        "    print(\"\\nHello, \" + formatted_name + \"!\")"
      ],
      "metadata": {
        "id": "DZ0vy89RaaVp",
        "colab": {
          "base_uri": "https://localhost:8080/"
        },
        "outputId": "e69393b4-b3c7-487f-b7e1-c25178d95e81"
      },
      "execution_count": 43,
      "outputs": [
        {
          "name": "stdout",
          "output_type": "stream",
          "text": [
            "\n",
            "Please tell me your name: \n",
            "enter 'q' at any time to quit)\n",
            "First name: bernard\n",
            "Last name: lee\n",
            "\n",
            "Hello, Bernard Lee!\n",
            "\n",
            "Please tell me your name: \n",
            "enter 'q' at any time to quit)\n",
            "First name: jason\n",
            "Last name: breed\n",
            "\n",
            "Hello, Jason Breed!\n",
            "\n",
            "Please tell me your name: \n",
            "enter 'q' at any time to quit)\n",
            "First name: grow\n",
            "Last name: q\n"
          ]
        }
      ]
    },
    {
      "cell_type": "markdown",
      "source": [
        "# **Exercise 11:** Passing a list as an argument"
      ],
      "metadata": {
        "id": "bZSbbYVpmZr3"
      }
    },
    {
      "cell_type": "code",
      "source": [
        "# Define a greet_users function\n",
        "# Using a for loop\n",
        "def greet_users(names):\n",
        "    \"\"\"Print a simple greeting to each other in a list\"\"\"\n",
        "    for name in names:\n",
        "        msg=\"Hello \" + name.title() +\"!\"\n",
        "        print(msg)"
      ],
      "metadata": {
        "id": "FPng1sWXbQfq"
      },
      "execution_count": 44,
      "outputs": []
    },
    {
      "cell_type": "code",
      "source": [
        "# Test the greet_users function using a list\n",
        "nama=['hasanah','khairil','\\'aisyah'] #\"\\\" <- backslah is an escape character\n",
        "greet_users(nama)"
      ],
      "metadata": {
        "colab": {
          "base_uri": "https://localhost:8080/"
        },
        "id": "Lhfdz56YmpVo",
        "outputId": "5f40bbca-c095-4faf-e541-8dd84b7b4f6b"
      },
      "execution_count": 45,
      "outputs": [
        {
          "output_type": "stream",
          "name": "stdout",
          "text": [
            "Hello Hasanah!\n",
            "Hello Khairil!\n",
            "Hello 'Aisyah!\n"
          ]
        }
      ]
    },
    {
      "cell_type": "markdown",
      "source": [
        "# **Exercise 12**: Modifying a list in a function"
      ],
      "metadata": {
        "id": "1TMRT2Cym1yd"
      }
    },
    {
      "cell_type": "code",
      "source": [
        "# Define a print_models function\n",
        "# Using unprinted_designs and completed_models as parameters\n",
        "# Using a while loop\n",
        "def print_models(unprinted_designs, completed_models):\n",
        "    \"\"\"\n",
        "    Simulate printing each design, until none are left\n",
        "    Move each printed design to completed_models after printing\n",
        "    \"\"\"\n",
        "\n",
        "    while unprinted_designs:\n",
        "        current_design=unprinted_designs.pop()\n",
        "\n",
        "        print(\"Printing model: \" + current_design)\n",
        "        completed_models.append(current_design)\n",
        "\n",
        "# Define a show_completed_models function\n",
        "# Using a for loop\n",
        "def show_completed_models(completed_models):\n",
        "    \"\"\"Show all the models that were printed\"\"\"\n",
        "    print(\"\\nThe following models have been printed: \")\n",
        "    for completed_model in completed_models:\n",
        "        print(completed_model)"
      ],
      "metadata": {
        "id": "IREmpvmldZ8M"
      },
      "execution_count": 69,
      "outputs": []
    },
    {
      "cell_type": "code",
      "source": [
        "# Given the unprinted_designs and complete_models variable\n",
        "unprinted_designs=['iphone pro max case','Malaysian flag','UKM Watan logo']\n",
        "completed_models=[]\n",
        "# Test run the two functions\n",
        "print_models(unprinted_designs,completed_models)\n",
        "show_completed_models(completed_models)"
      ],
      "metadata": {
        "colab": {
          "base_uri": "https://localhost:8080/"
        },
        "id": "Fjy5lk5teH3l",
        "outputId": "e25d723b-5685-4fde-b686-30bf4423d5e3"
      },
      "execution_count": 70,
      "outputs": [
        {
          "output_type": "stream",
          "name": "stdout",
          "text": [
            "Printing model: UKM Watan logo\n",
            "Printing model: Malaysian flag\n",
            "Printing model: iphone pro max case\n",
            "\n",
            "The following models have been printed: \n",
            "UKM Watan logo\n",
            "Malaysian flag\n",
            "iphone pro max case\n"
          ]
        }
      ]
    },
    {
      "cell_type": "code",
      "source": [
        "# Print the final unprinted_designs\n",
        "\n",
        "\n",
        "# Print the final completed_models\n"
      ],
      "metadata": {
        "colab": {
          "base_uri": "https://localhost:8080/"
        },
        "id": "tFATM-3CoMUZ",
        "outputId": "6e7ca754-f6b5-484a-8713-a4933c39dac0"
      },
      "execution_count": null,
      "outputs": [
        {
          "output_type": "stream",
          "name": "stdout",
          "text": [
            "[]\n",
            "['UKM Watan logo', 'Malaysian flag', 'iphone15 case']\n"
          ]
        }
      ]
    },
    {
      "cell_type": "markdown",
      "source": [
        "# **Exercise 13**: Passing an Arbitrary Number of Arguments"
      ],
      "metadata": {
        "id": "40hG76PqofzK"
      }
    },
    {
      "cell_type": "code",
      "source": [
        "# Define a make_pizza function\n",
        "# Using an asterisk (*) to make a tuple\n",
        "def make_pizza(size,*toppings):\n",
        "    \"\"\"Summariza a pizza we are about to make\"\"\"\n",
        "    print(\"\\nMaking a \" + str(size) + \"-inch pizza with the following toppings:\")\n",
        "\n",
        "    for topping in toppings:\n",
        "        print(\"-\" + topping)"
      ],
      "metadata": {
        "id": "SPUnVgGrgdfM"
      },
      "execution_count": 55,
      "outputs": []
    },
    {
      "cell_type": "code",
      "source": [
        "# Test run the make_pizza function\n",
        "make_pizza(16,\"tuna dan nanas\")"
      ],
      "metadata": {
        "colab": {
          "base_uri": "https://localhost:8080/"
        },
        "id": "c8hWWwENglJT",
        "outputId": "b670989c-5f40-441c-b505-b86def3a4669"
      },
      "execution_count": 56,
      "outputs": [
        {
          "output_type": "stream",
          "name": "stdout",
          "text": [
            "\n",
            "Making a 16-inch pizza with the following toppings:\n",
            "-tuna dan nanas\n"
          ]
        }
      ]
    },
    {
      "cell_type": "code",
      "source": [
        "make_pizza(16,\"tuna\",\"nanas\",\"extra cheese\",\"crab meat\",\"pickles\")"
      ],
      "metadata": {
        "colab": {
          "base_uri": "https://localhost:8080/"
        },
        "id": "iVZ23K8FgurS",
        "outputId": "b81d9bdc-8c4a-4ce8-f8b0-7af825752ee6"
      },
      "execution_count": 57,
      "outputs": [
        {
          "output_type": "stream",
          "name": "stdout",
          "text": [
            "\n",
            "Making a 16-inch pizza with the following toppings:\n",
            "-tuna\n",
            "-nanas\n",
            "-extra cheese\n",
            "-crab meat\n",
            "-pickles\n"
          ]
        }
      ]
    },
    {
      "cell_type": "markdown",
      "source": [
        "# **What is a *python tuple*?**\n",
        "Python tuples are a type of data structure that is very similar to lists. The main difference between the two is that tuples are immutable, meaning they cannot be changed once they are created. This makes them ideal for storing data that should not be modified, such as database records.\n",
        "\n",
        "For more information, please visit this link: https://tinyurl.com/yv7b3dzw"
      ],
      "metadata": {
        "id": "8G4FXQ_9pPlS"
      }
    },
    {
      "cell_type": "markdown",
      "source": [
        "# **Exercise 14**: Using arbitrary keyword arguments"
      ],
      "metadata": {
        "id": "ot-m1uP4p77o"
      }
    },
    {
      "cell_type": "code",
      "source": [
        "# Define a build_profile function\n",
        "# Use a double asterisk (**) to create empty dictionary [to store key-value pairs]\n",
        "def build_profile(first, last, **user_info):\n",
        "    \"\"\"Build a dictionary containing everything we know about a person\"\"\"\n",
        "    profile={}\n",
        "    profile['first_name']=first\n",
        "    profile['last_name']=last\n",
        "\n",
        "    for key,value in user_info.items():\n",
        "        profile[key]=value\n",
        "\n",
        "    return profile\n",
        "\n"
      ],
      "metadata": {
        "id": "YSkms1bvjSLL"
      },
      "execution_count": 62,
      "outputs": []
    },
    {
      "cell_type": "code",
      "source": [
        "# Test run the build_profile function\n",
        "user_profile=build_profile(\"suraya\",'admin',\n",
        "                           location='johor',\n",
        "                           field='logistics')\n",
        "\n",
        "print(user_profile)"
      ],
      "metadata": {
        "colab": {
          "base_uri": "https://localhost:8080/"
        },
        "id": "DwRHhiCtjcGc",
        "outputId": "8cc73405-a226-4f8d-cc10-d50cef0f9a1f"
      },
      "execution_count": 64,
      "outputs": [
        {
          "output_type": "stream",
          "name": "stdout",
          "text": [
            "{'first_name': 'suraya', 'last_name': 'admin', 'location': 'johor', 'field': 'logistics'}\n"
          ]
        }
      ]
    },
    {
      "cell_type": "markdown",
      "source": [
        "# **Exercise 15**: Storing Functions in a Module\n",
        "* Store function in a separate file called ***module***\n",
        "* Import the module into the main program\n",
        "* Storing functions in a separate file allows us to ***hide the details of our program’s code*** and focus on its higher-level logic\n",
        "* Allows us to reuse functions in many different programs\n",
        "* We can share those files with other programmers without having to share our entire program."
      ],
      "metadata": {
        "id": "SRMYxtkUlazN"
      }
    },
    {
      "cell_type": "code",
      "source": [
        "# We need to first mount to the Google Drive as we are now in the \"cloud\"\n",
        "# The module we need is saved in the Google Drive\n",
        "from google.colab import drive\n",
        "drive.mount('/content/drive')"
      ],
      "metadata": {
        "colab": {
          "base_uri": "https://localhost:8080/"
        },
        "id": "dLf-2B5KlcmL",
        "outputId": "e76db19a-ca59-467e-e877-bf2e6a9eac21"
      },
      "execution_count": 71,
      "outputs": [
        {
          "output_type": "stream",
          "name": "stdout",
          "text": [
            "Mounted at /content/drive\n"
          ]
        }
      ]
    },
    {
      "cell_type": "markdown",
      "source": [
        "# **Method I**: Manual upload from our local computer (very troublesome)\n",
        "* make a python module named **pizza.py** in your local computer\n",
        "* upload to the Google Drive"
      ],
      "metadata": {
        "id": "AhqogbEKltQ7"
      }
    },
    {
      "cell_type": "code",
      "source": [
        "# Upload the module called pizza.py from local computer\n",
        "# Copy to the /content file location\n",
        "# We are currently run in /content -> the \"cloud\"\n",
        "!cp /content/drive/MyDrive/STQD6014/pizza.py /content"
      ],
      "metadata": {
        "id": "21zgXdYRluVM"
      },
      "execution_count": 72,
      "outputs": []
    },
    {
      "cell_type": "markdown",
      "source": [
        "# **Dot notation (.)**\n",
        "* is a syntax used in programming languages like Python to access an object's attributes and methods\n",
        "* making it easier to search complex data structures\n"
      ],
      "metadata": {
        "id": "w49qn24sm3g7"
      }
    },
    {
      "cell_type": "markdown",
      "source": [
        "# Executing ***module_name.function_name()***\n",
        "* make each function in the module available"
      ],
      "metadata": {
        "id": "ht6Rc-JXm7wd"
      }
    },
    {
      "cell_type": "code",
      "source": [
        "# Import the pizza.py module\n",
        "# Each function in the module is available\n",
        "import pizza\n",
        "\n",
        "# Run the make_pizza function\n",
        "# the make_pizza function is defined in the pizza module\n",
        "pizza.make_pizza(16, 'tuna')\n",
        "pizza.make_pizza(12, 'mushrooms', 'green peppers', 'extra cheese')"
      ],
      "metadata": {
        "colab": {
          "base_uri": "https://localhost:8080/"
        },
        "id": "JiBtmO4-m4ga",
        "outputId": "22e4b802-84ae-4fc2-a29d-bc793964a97e"
      },
      "execution_count": 73,
      "outputs": [
        {
          "output_type": "stream",
          "name": "stdout",
          "text": [
            "\n",
            "Making a 16-inch pizza with the following toppings:\n",
            "-tuna\n",
            "\n",
            "Making a 12-inch pizza with the following toppings:\n",
            "-mushrooms\n",
            "-green peppers\n",
            "-extra cheese\n"
          ]
        }
      ]
    },
    {
      "cell_type": "code",
      "source": [
        "# Run the power two function\n",
        "import pizza\n",
        "\n",
        "pizza.pow2(5)"
      ],
      "metadata": {
        "colab": {
          "base_uri": "https://localhost:8080/"
        },
        "id": "6B37xxvnoh_k",
        "outputId": "90f0749b-3f21-4d59-e89e-b7221917c705"
      },
      "execution_count": 74,
      "outputs": [
        {
          "output_type": "execute_result",
          "data": {
            "text/plain": [
              "25"
            ]
          },
          "metadata": {},
          "execution_count": 74
        }
      ]
    },
    {
      "cell_type": "markdown",
      "source": [
        "# Executing ***from module_name import function_name***\n",
        "* import a specific function from a module\n",
        "* don’t need to use the dot notation when we call a function"
      ],
      "metadata": {
        "id": "mbJauMrDniWS"
      }
    },
    {
      "cell_type": "code",
      "source": [
        "# Importing a Specific Function from a module\n",
        "from pizza import make_pizza\n",
        "\n",
        "make_pizza(16, 'tuna')\n",
        "make_pizza(12, 'mushrooms', 'green peppers', 'extra cheese')"
      ],
      "metadata": {
        "colab": {
          "base_uri": "https://localhost:8080/"
        },
        "id": "UsmnI68InlQy",
        "outputId": "9f925320-1823-483f-fa4f-973f459140ed"
      },
      "execution_count": 75,
      "outputs": [
        {
          "output_type": "stream",
          "name": "stdout",
          "text": [
            "\n",
            "Making a 16-inch pizza with the following toppings:\n",
            "-tuna\n",
            "\n",
            "Making a 12-inch pizza with the following toppings:\n",
            "-mushrooms\n",
            "-green peppers\n",
            "-extra cheese\n"
          ]
        }
      ]
    },
    {
      "cell_type": "code",
      "source": [
        "from pizza import pow2\n",
        "\n",
        "pow2(10)"
      ],
      "metadata": {
        "colab": {
          "base_uri": "https://localhost:8080/"
        },
        "id": "IFlILq4Lqlm7",
        "outputId": "2e05dc8b-4186-4015-e8dc-2c1710d3beee"
      },
      "execution_count": 76,
      "outputs": [
        {
          "output_type": "execute_result",
          "data": {
            "text/plain": [
              "100"
            ]
          },
          "metadata": {},
          "execution_count": 76
        }
      ]
    },
    {
      "cell_type": "markdown",
      "source": [
        "# Using ***as*** to Give a Function an ***Alias***\n",
        "* If the name of a function you’re importing might conflict with an existing name in your program, or\n",
        "* if the function name is long,\n",
        "\n",
        "    * we can use a ***short, unique alias***—an alternate name similar to a nickname for the function."
      ],
      "metadata": {
        "id": "PYEljU2Snnuf"
      }
    },
    {
      "cell_type": "code",
      "source": [
        "# Using Alias\n",
        "from pizza import make_pizza as mp\n",
        "\n",
        "mp(16, 'tuna')\n",
        "mp(12, 'mushrooms', 'green peppers', 'extra cheese')"
      ],
      "metadata": {
        "colab": {
          "base_uri": "https://localhost:8080/"
        },
        "id": "3iyCtSsXnqhb",
        "outputId": "0b374e3d-d15c-4208-e6ef-ce0120485d80"
      },
      "execution_count": 77,
      "outputs": [
        {
          "output_type": "stream",
          "name": "stdout",
          "text": [
            "\n",
            "Making a 16-inch pizza with the following toppings:\n",
            "-tuna\n",
            "\n",
            "Making a 12-inch pizza with the following toppings:\n",
            "-mushrooms\n",
            "-green peppers\n",
            "-extra cheese\n"
          ]
        }
      ]
    },
    {
      "cell_type": "code",
      "source": [
        "from pizza import pow2 as p\n",
        "\n",
        "p(9)"
      ],
      "metadata": {
        "colab": {
          "base_uri": "https://localhost:8080/"
        },
        "id": "ENFyuKm6q3c8",
        "outputId": "8065d630-53f3-4d0b-aecf-9536bd38d386"
      },
      "execution_count": 78,
      "outputs": [
        {
          "output_type": "execute_result",
          "data": {
            "text/plain": [
              "81"
            ]
          },
          "metadata": {},
          "execution_count": 78
        }
      ]
    },
    {
      "cell_type": "markdown",
      "source": [
        "# **Method II: Semi-Manual upload module to Google Drive**\n"
      ],
      "metadata": {
        "id": "RiUDNToxntre"
      }
    },
    {
      "cell_type": "code",
      "source": [
        "# Semi-manual upload module\n",
        "from google.colab import files\n",
        "files.upload()"
      ],
      "metadata": {
        "colab": {
          "base_uri": "https://localhost:8080/",
          "height": 142
        },
        "id": "JNpFm4KbnxRF",
        "outputId": "39e27808-248a-4812-f3ac-babf0729df81"
      },
      "execution_count": 79,
      "outputs": [
        {
          "output_type": "display_data",
          "data": {
            "text/plain": [
              "<IPython.core.display.HTML object>"
            ],
            "text/html": [
              "\n",
              "     <input type=\"file\" id=\"files-11d71609-6084-4013-ba97-00b56b67e0df\" name=\"files[]\" multiple disabled\n",
              "        style=\"border:none\" />\n",
              "     <output id=\"result-11d71609-6084-4013-ba97-00b56b67e0df\">\n",
              "      Upload widget is only available when the cell has been executed in the\n",
              "      current browser session. Please rerun this cell to enable.\n",
              "      </output>\n",
              "      <script>// Copyright 2017 Google LLC\n",
              "//\n",
              "// Licensed under the Apache License, Version 2.0 (the \"License\");\n",
              "// you may not use this file except in compliance with the License.\n",
              "// You may obtain a copy of the License at\n",
              "//\n",
              "//      http://www.apache.org/licenses/LICENSE-2.0\n",
              "//\n",
              "// Unless required by applicable law or agreed to in writing, software\n",
              "// distributed under the License is distributed on an \"AS IS\" BASIS,\n",
              "// WITHOUT WARRANTIES OR CONDITIONS OF ANY KIND, either express or implied.\n",
              "// See the License for the specific language governing permissions and\n",
              "// limitations under the License.\n",
              "\n",
              "/**\n",
              " * @fileoverview Helpers for google.colab Python module.\n",
              " */\n",
              "(function(scope) {\n",
              "function span(text, styleAttributes = {}) {\n",
              "  const element = document.createElement('span');\n",
              "  element.textContent = text;\n",
              "  for (const key of Object.keys(styleAttributes)) {\n",
              "    element.style[key] = styleAttributes[key];\n",
              "  }\n",
              "  return element;\n",
              "}\n",
              "\n",
              "// Max number of bytes which will be uploaded at a time.\n",
              "const MAX_PAYLOAD_SIZE = 100 * 1024;\n",
              "\n",
              "function _uploadFiles(inputId, outputId) {\n",
              "  const steps = uploadFilesStep(inputId, outputId);\n",
              "  const outputElement = document.getElementById(outputId);\n",
              "  // Cache steps on the outputElement to make it available for the next call\n",
              "  // to uploadFilesContinue from Python.\n",
              "  outputElement.steps = steps;\n",
              "\n",
              "  return _uploadFilesContinue(outputId);\n",
              "}\n",
              "\n",
              "// This is roughly an async generator (not supported in the browser yet),\n",
              "// where there are multiple asynchronous steps and the Python side is going\n",
              "// to poll for completion of each step.\n",
              "// This uses a Promise to block the python side on completion of each step,\n",
              "// then passes the result of the previous step as the input to the next step.\n",
              "function _uploadFilesContinue(outputId) {\n",
              "  const outputElement = document.getElementById(outputId);\n",
              "  const steps = outputElement.steps;\n",
              "\n",
              "  const next = steps.next(outputElement.lastPromiseValue);\n",
              "  return Promise.resolve(next.value.promise).then((value) => {\n",
              "    // Cache the last promise value to make it available to the next\n",
              "    // step of the generator.\n",
              "    outputElement.lastPromiseValue = value;\n",
              "    return next.value.response;\n",
              "  });\n",
              "}\n",
              "\n",
              "/**\n",
              " * Generator function which is called between each async step of the upload\n",
              " * process.\n",
              " * @param {string} inputId Element ID of the input file picker element.\n",
              " * @param {string} outputId Element ID of the output display.\n",
              " * @return {!Iterable<!Object>} Iterable of next steps.\n",
              " */\n",
              "function* uploadFilesStep(inputId, outputId) {\n",
              "  const inputElement = document.getElementById(inputId);\n",
              "  inputElement.disabled = false;\n",
              "\n",
              "  const outputElement = document.getElementById(outputId);\n",
              "  outputElement.innerHTML = '';\n",
              "\n",
              "  const pickedPromise = new Promise((resolve) => {\n",
              "    inputElement.addEventListener('change', (e) => {\n",
              "      resolve(e.target.files);\n",
              "    });\n",
              "  });\n",
              "\n",
              "  const cancel = document.createElement('button');\n",
              "  inputElement.parentElement.appendChild(cancel);\n",
              "  cancel.textContent = 'Cancel upload';\n",
              "  const cancelPromise = new Promise((resolve) => {\n",
              "    cancel.onclick = () => {\n",
              "      resolve(null);\n",
              "    };\n",
              "  });\n",
              "\n",
              "  // Wait for the user to pick the files.\n",
              "  const files = yield {\n",
              "    promise: Promise.race([pickedPromise, cancelPromise]),\n",
              "    response: {\n",
              "      action: 'starting',\n",
              "    }\n",
              "  };\n",
              "\n",
              "  cancel.remove();\n",
              "\n",
              "  // Disable the input element since further picks are not allowed.\n",
              "  inputElement.disabled = true;\n",
              "\n",
              "  if (!files) {\n",
              "    return {\n",
              "      response: {\n",
              "        action: 'complete',\n",
              "      }\n",
              "    };\n",
              "  }\n",
              "\n",
              "  for (const file of files) {\n",
              "    const li = document.createElement('li');\n",
              "    li.append(span(file.name, {fontWeight: 'bold'}));\n",
              "    li.append(span(\n",
              "        `(${file.type || 'n/a'}) - ${file.size} bytes, ` +\n",
              "        `last modified: ${\n",
              "            file.lastModifiedDate ? file.lastModifiedDate.toLocaleDateString() :\n",
              "                                    'n/a'} - `));\n",
              "    const percent = span('0% done');\n",
              "    li.appendChild(percent);\n",
              "\n",
              "    outputElement.appendChild(li);\n",
              "\n",
              "    const fileDataPromise = new Promise((resolve) => {\n",
              "      const reader = new FileReader();\n",
              "      reader.onload = (e) => {\n",
              "        resolve(e.target.result);\n",
              "      };\n",
              "      reader.readAsArrayBuffer(file);\n",
              "    });\n",
              "    // Wait for the data to be ready.\n",
              "    let fileData = yield {\n",
              "      promise: fileDataPromise,\n",
              "      response: {\n",
              "        action: 'continue',\n",
              "      }\n",
              "    };\n",
              "\n",
              "    // Use a chunked sending to avoid message size limits. See b/62115660.\n",
              "    let position = 0;\n",
              "    do {\n",
              "      const length = Math.min(fileData.byteLength - position, MAX_PAYLOAD_SIZE);\n",
              "      const chunk = new Uint8Array(fileData, position, length);\n",
              "      position += length;\n",
              "\n",
              "      const base64 = btoa(String.fromCharCode.apply(null, chunk));\n",
              "      yield {\n",
              "        response: {\n",
              "          action: 'append',\n",
              "          file: file.name,\n",
              "          data: base64,\n",
              "        },\n",
              "      };\n",
              "\n",
              "      let percentDone = fileData.byteLength === 0 ?\n",
              "          100 :\n",
              "          Math.round((position / fileData.byteLength) * 100);\n",
              "      percent.textContent = `${percentDone}% done`;\n",
              "\n",
              "    } while (position < fileData.byteLength);\n",
              "  }\n",
              "\n",
              "  // All done.\n",
              "  yield {\n",
              "    response: {\n",
              "      action: 'complete',\n",
              "    }\n",
              "  };\n",
              "}\n",
              "\n",
              "scope.google = scope.google || {};\n",
              "scope.google.colab = scope.google.colab || {};\n",
              "scope.google.colab._files = {\n",
              "  _uploadFiles,\n",
              "  _uploadFilesContinue,\n",
              "};\n",
              "})(self);\n",
              "</script> "
            ]
          },
          "metadata": {}
        },
        {
          "output_type": "stream",
          "name": "stdout",
          "text": [
            "Saving pizza.py to pizza (1).py\n"
          ]
        },
        {
          "output_type": "execute_result",
          "data": {
            "text/plain": [
              "{'pizza (1).py': b'# -*- coding: utf-8 -*-\\n\"\"\"pizza.ipynb\\n\\nAutomatically generated by Colaboratory.\\n\\nOriginal file is located at\\n    https://colab.research.google.com/drive/1qwrQX50jmpHSZ4Od0a6Krrp-GYn4-fIV\\n\"\"\"\\n\\n# Define a make_pizza function\\n# Using an asterisk (*) to make a tuple\\ndef make_pizza(size,*toppings):\\n    \"\"\"Summariza a pizza we are about to make\"\"\"\\n    print(\"\\\\nMaking a \" + str(size) + \"-inch pizza with the following toppings:\")\\n\\n    for topping in toppings:\\n        print(\"-\" + topping)\\n\\ndef pow2(x):\\n    \"\"\"Make power 2\"\"\"\\n\\n    return x**2'}"
            ]
          },
          "metadata": {},
          "execution_count": 79
        }
      ]
    },
    {
      "cell_type": "code",
      "source": [
        "# Run the module and function\n",
        "from pizza import make_pizza as mp\n",
        "mp(16, 'tuna fish')"
      ],
      "metadata": {
        "colab": {
          "base_uri": "https://localhost:8080/"
        },
        "id": "YDe9Uvy4n-b0",
        "outputId": "8a9c5ff0-7806-428e-d295-dc5db3a616e8"
      },
      "execution_count": 80,
      "outputs": [
        {
          "output_type": "stream",
          "name": "stdout",
          "text": [
            "\n",
            "Making a 16-inch pizza with the following toppings:\n",
            "-tuna fish\n"
          ]
        }
      ]
    },
    {
      "cell_type": "markdown",
      "source": [
        "# **Good Luck and see you all next week :)**"
      ],
      "metadata": {
        "id": "AsgDHq4zrrdy"
      }
    }
  ]
}