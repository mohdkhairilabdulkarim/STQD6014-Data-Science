{
  "nbformat": 4,
  "nbformat_minor": 0,
  "metadata": {
    "colab": {
      "provenance": [],
      "include_colab_link": true
    },
    "kernelspec": {
      "name": "python3",
      "display_name": "Python 3"
    },
    "language_info": {
      "name": "python"
    }
  },
  "cells": [
    {
      "cell_type": "markdown",
      "metadata": {
        "id": "view-in-github",
        "colab_type": "text"
      },
      "source": [
        "<a href=\"https://colab.research.google.com/github/mohdkhairilabdulkarim/STQD6014-Data-Science/blob/main/Week3_20231104.ipynb\" target=\"_parent\"><img src=\"https://colab.research.google.com/assets/colab-badge.svg\" alt=\"Open In Colab\"/></a>"
      ]
    },
    {
      "cell_type": "markdown",
      "source": [
        "# **Week 03: If Statement**"
      ],
      "metadata": {
        "id": "wAJzPiuPfytH"
      }
    },
    {
      "cell_type": "code",
      "execution_count": null,
      "metadata": {
        "id": "K3kRlxvX6A7L",
        "colab": {
          "base_uri": "https://localhost:8080/"
        },
        "outputId": "7de9c4d9-7acd-4fe6-c0b8-f45112639f78"
      },
      "outputs": [
        {
          "output_type": "stream",
          "name": "stdout",
          "text": [
            "Audi\n",
            "BMW\n",
            "Subaru\n",
            "Toyota\n"
          ]
        }
      ],
      "source": [
        "# Exercise 1\n",
        "cars = ['audi', 'bmw', 'subaru', 'toyota']\n",
        "\n",
        "for i in cars:\n",
        "    if i == 'bmw':\n",
        "        print(i.upper())\n",
        "    else:\n",
        "        print(i.title())\n",
        "\n"
      ]
    },
    {
      "cell_type": "code",
      "source": [
        "# Exercise 2\n",
        "requested_topping = 'cheese'\n",
        "\n",
        "if requested_topping != 'anchovies':\n",
        "    print('Hold the anchovies')\n",
        "else:\n",
        "    print('Bernard, please serve the anchovies fast!!!!')"
      ],
      "metadata": {
        "id": "fviS0BYz8fUO",
        "colab": {
          "base_uri": "https://localhost:8080/"
        },
        "outputId": "7697fc28-d915-44d8-bfae-a52c541e630d"
      },
      "execution_count": null,
      "outputs": [
        {
          "output_type": "stream",
          "name": "stdout",
          "text": [
            "Hold the anchovies\n"
          ]
        }
      ]
    },
    {
      "cell_type": "code",
      "source": [
        "# Exercise 3\n",
        "age_0 = 22\n",
        "age_1 = 18"
      ],
      "metadata": {
        "id": "hV59aeSw8uSF"
      },
      "execution_count": null,
      "outputs": []
    },
    {
      "cell_type": "code",
      "source": [
        "# Checking using different condition\n",
        "# age_0 < 21 and age_1 < 21 - FALSE\n",
        "# age_0 < 21 or age_1 < 21 - TRUE\n",
        "# age_0 >= 21 and age_1 >= 21 - FALSE\n",
        "# age_0 >= 21 or age_1 >= 21 - TRUE\n",
        "# age_0 >= 21 and age_1 >= 21 - FALSE\n"
      ],
      "metadata": {
        "id": "69W0k1_NgKOS"
      },
      "execution_count": null,
      "outputs": []
    },
    {
      "cell_type": "code",
      "source": [
        "age_0 >= 21 and age_1 >= 21\n"
      ],
      "metadata": {
        "colab": {
          "base_uri": "https://localhost:8080/"
        },
        "id": "v0MKcqw6IAPW",
        "outputId": "bd791ee8-f45c-423c-d47e-cf3b7503bfb8"
      },
      "execution_count": null,
      "outputs": [
        {
          "output_type": "execute_result",
          "data": {
            "text/plain": [
              "False"
            ]
          },
          "metadata": {},
          "execution_count": 5
        }
      ]
    },
    {
      "cell_type": "markdown",
      "source": [
        "# **A point of ponder :)**"
      ],
      "metadata": {
        "id": "Wk6VCX9djopY"
      }
    },
    {
      "cell_type": "code",
      "source": [
        "# What would the following code evaluate to? True or False?\n",
        "# and why?\n",
        "age_0 and age_1 < 21"
      ],
      "metadata": {
        "id": "9xZGmLTVkHlh",
        "colab": {
          "base_uri": "https://localhost:8080/"
        },
        "outputId": "b1c40572-743c-432c-ac2b-609b9cbe0cfa"
      },
      "execution_count": null,
      "outputs": [
        {
          "output_type": "execute_result",
          "data": {
            "text/plain": [
              "True"
            ]
          },
          "metadata": {},
          "execution_count": 6
        }
      ]
    },
    {
      "cell_type": "code",
      "source": [
        "# Exercise 4\n",
        "requested_topping = ['mushrooms', 'onions', 'pineapple']\n",
        "\n",
        "# Check whether mushrooms is in the topping list\n",
        "'mushrooms' in requested_topping\n",
        "# Check whether pepperoni is in the topping list\n",
        "'pepperoni' in requested_topping"
      ],
      "metadata": {
        "id": "z5wPseRl-VyI",
        "colab": {
          "base_uri": "https://localhost:8080/"
        },
        "outputId": "5eaae8a2-bc9b-4e7f-a380-be3e0f819497"
      },
      "execution_count": null,
      "outputs": [
        {
          "output_type": "execute_result",
          "data": {
            "text/plain": [
              "False"
            ]
          },
          "metadata": {},
          "execution_count": 10
        }
      ]
    },
    {
      "cell_type": "code",
      "source": [
        "# Exercise 5\n",
        "banned_users = ['andrew', 'carolina', 'david']\n",
        "\n",
        "# Check whether marie, 007 and andrew is in the banned user list\n",
        "user = 'marie'\n",
        "if user not in banned_users:\n",
        "  print(user.title() + ', you can post a response if you wish')\n",
        "\n",
        "user = 7\n",
        "if user not in banned_users:\n",
        "  print(str(user) + ', you can post a response if you wish')\n",
        "\n",
        "user = 'andrew'\n",
        "if user not in banned_users:\n",
        "  print(user.title() + ', you can post a response if you wish')\n"
      ],
      "metadata": {
        "id": "RWb1iy4I-eFb",
        "colab": {
          "base_uri": "https://localhost:8080/"
        },
        "outputId": "60e1a988-0036-4602-85ab-88f750af378b"
      },
      "execution_count": null,
      "outputs": [
        {
          "output_type": "stream",
          "name": "stdout",
          "text": [
            "Marie, you can post a response if you wish\n",
            "7, you can post a response if you wish\n"
          ]
        }
      ]
    },
    {
      "cell_type": "code",
      "source": [
        "# Try it yourself\n",
        "# Try making sense of it\n",
        "car = 'subaru'\n",
        "print(\"Is car == 'subaru'? I predict True.\")\n",
        "print(car == \"subaru\") #This is logical comparison; not printing string\n",
        "\n",
        "print(\"\\nIs car == 'audi'? I predict False\")\n",
        "print(car == 'audi') #This is logical comparison; not printing string"
      ],
      "metadata": {
        "id": "Usq-CnrjCi71",
        "colab": {
          "base_uri": "https://localhost:8080/"
        },
        "outputId": "3536c16a-107a-4406-d4bd-e49c2cb003e1"
      },
      "execution_count": null,
      "outputs": [
        {
          "output_type": "stream",
          "name": "stdout",
          "text": [
            "Is car == 'subaru'? I predict True.\n",
            "True\n",
            "\n",
            "Is car == 'audi'? I predict False\n",
            "False\n"
          ]
        }
      ]
    },
    {
      "cell_type": "code",
      "source": [
        "# If statement\n",
        "age = 18\n",
        "\n",
        "if age >= 18:\n",
        "  print('You are old enough to vote!')\n",
        "  print('Have you registered to vote yet?')\n",
        "  print('Oh ya, tak yah register pun')\n",
        "else:\n",
        "    print('You have to wait for GE17')"
      ],
      "metadata": {
        "id": "BN5LXsVWDN_b",
        "colab": {
          "base_uri": "https://localhost:8080/"
        },
        "outputId": "0ea8543a-21ca-476b-9d5c-559ce79282d2"
      },
      "execution_count": null,
      "outputs": [
        {
          "output_type": "stream",
          "name": "stdout",
          "text": [
            "You are old enough to vote!\n",
            "Have you registered to vote yet?\n",
            "Oh ya, tak yah register pun\n"
          ]
        }
      ]
    },
    {
      "cell_type": "code",
      "source": [
        "# Given the if-elif-else statement\n",
        "age = 55\n",
        "if age < 4:\n",
        "  print(\"Your admission rate is RM0.\")\n",
        "elif age < 18:\n",
        "  print(\"Your admission rate is RM5.\")\n",
        "else:\n",
        "  print(\"Your admission rate is RM10.\")"
      ],
      "metadata": {
        "colab": {
          "base_uri": "https://localhost:8080/"
        },
        "id": "5lNf9lMgEO4H",
        "outputId": "905b95ff-578c-43ad-98c6-a8f867f38dca"
      },
      "execution_count": null,
      "outputs": [
        {
          "output_type": "stream",
          "name": "stdout",
          "text": [
            "Your admission rate is RM10.\n"
          ]
        }
      ]
    },
    {
      "cell_type": "code",
      "source": [
        "# Exercise 6 - Revising the previous code for a cleaner version\n",
        "age = 67\n",
        "if age < 4:\n",
        "    rate=0\n",
        "elif age < 18:\n",
        "    rate=5\n",
        "else:\n",
        "    rate=10\n",
        "\n",
        "print('Your admission rate is RM'+str(rate))"
      ],
      "metadata": {
        "id": "litAhuvSGR6l",
        "colab": {
          "base_uri": "https://localhost:8080/"
        },
        "outputId": "855ea3d0-d179-4fab-a9b7-3d29e0bc1506"
      },
      "execution_count": null,
      "outputs": [
        {
          "output_type": "stream",
          "name": "stdout",
          "text": [
            "Your admission rate is RM10\n"
          ]
        }
      ]
    },
    {
      "cell_type": "code",
      "source": [
        "user=7\n",
        "\n",
        "if age < 4:\n",
        "    rate=0\n",
        "elif age < 18:\n",
        "    rate=5\n",
        "elif age < 65:\n",
        "    rate=10\n",
        "else:\n",
        "    rate=5\n",
        "\n",
        "print('Your admission rate is RM'+str(rate)+', '+str(user))"
      ],
      "metadata": {
        "colab": {
          "base_uri": "https://localhost:8080/"
        },
        "id": "gzzbfQ1FStIA",
        "outputId": "3eb571a0-7c8c-4094-d315-6cbe81fc63b8"
      },
      "execution_count": null,
      "outputs": [
        {
          "output_type": "stream",
          "name": "stdout",
          "text": [
            "Your admission rate is RM5, 7\n"
          ]
        }
      ]
    },
    {
      "cell_type": "code",
      "source": [
        "user='andrew'\n",
        "\n",
        "if age < 4:\n",
        "    rate=0\n",
        "elif age < 18:\n",
        "    rate=5\n",
        "elif age < 65:\n",
        "    rate=10\n",
        "else:\n",
        "    rate=5\n",
        "\n",
        "print('Your admission rate is RM'+str(rate)+', '+user.title())"
      ],
      "metadata": {
        "colab": {
          "base_uri": "https://localhost:8080/"
        },
        "id": "VADcI4rrTpEg",
        "outputId": "dc065591-c8fc-41d7-f136-bca8e75c1e67"
      },
      "execution_count": null,
      "outputs": [
        {
          "output_type": "stream",
          "name": "stdout",
          "text": [
            "Your admission rate is RM5, Andrew\n"
          ]
        }
      ]
    },
    {
      "cell_type": "code",
      "source": [
        "# Exercise 7 - end the code using elif for easier interpretation\n",
        "age = 67\n",
        "if age < 4:\n",
        "    rate=0\n",
        "elif age < 18:\n",
        "    rate=5\n",
        "elif age < 65:\n",
        "    rate=10\n",
        "elif age >= 65:\n",
        "    rate=5\n",
        "\n",
        "print('Your admission rate is RM'+str(rate)+', '+user.title())"
      ],
      "metadata": {
        "id": "T6AvirgKHEWz",
        "colab": {
          "base_uri": "https://localhost:8080/"
        },
        "outputId": "3f23a3c2-26e5-400d-d78d-affe20730e84"
      },
      "execution_count": null,
      "outputs": [
        {
          "output_type": "stream",
          "name": "stdout",
          "text": [
            "Your admission rate is RM5, Andrew\n"
          ]
        }
      ]
    },
    {
      "cell_type": "code",
      "source": [
        "# Exercise 8 - multiple if\n",
        "requested_topping = ['mushrooms', 'extra cheese']\n",
        "\n",
        "if 'mushrooms' in requested_topping:\n",
        "    print('Adding mushrooms')\n",
        "if 'pepperoni' in requested_topping:\n",
        "    print('Adding pepperoni')\n",
        "if 'extra cheese' in requested_topping:\n",
        "    print('Adding extra cheese')\n",
        "\n",
        "print('\\nFinishing making your pizza!!!')"
      ],
      "metadata": {
        "id": "FUPOtDHjXZAr",
        "colab": {
          "base_uri": "https://localhost:8080/"
        },
        "outputId": "896014f5-1dde-4330-ed84-4aebafec7ff8"
      },
      "execution_count": null,
      "outputs": [
        {
          "output_type": "stream",
          "name": "stdout",
          "text": [
            "Adding mushrooms\n",
            "Adding extra cheese\n",
            "\n",
            "Finishing making your pizza!!!\n"
          ]
        }
      ]
    },
    {
      "cell_type": "code",
      "source": [
        "# Exercise 9 - To check for special conditions / items\n",
        "requested_toppings = ['mushrooms', 'extra cheese', 'green peppers']\n",
        "\n",
        "for requested_topping in requested_toppings:\n",
        "    if requested_topping == 'green peppers':\n",
        "        print('Sorry, we are out of green peppers right now!!')\n",
        "    else:\n",
        "        print('Adding ' + requested_topping + '.')\n",
        "\n",
        "print('\\nFinished making your pizza!!!')"
      ],
      "metadata": {
        "id": "sy9baNJxYusX",
        "colab": {
          "base_uri": "https://localhost:8080/"
        },
        "outputId": "f0e01b99-6049-471c-aa3c-e5ed918d3611"
      },
      "execution_count": null,
      "outputs": [
        {
          "output_type": "stream",
          "name": "stdout",
          "text": [
            "Adding mushrooms.\n",
            "Adding extra cheese.\n",
            "Sorry, we are out of green peppers right now!!\n",
            "\n",
            "Finished making your pizza!!!\n"
          ]
        }
      ]
    },
    {
      "cell_type": "code",
      "source": [
        "# Exercise 10 - Checking for a list that is empty\n",
        "#Indentation is very important !!!!\n",
        "requested_toppings = []\n",
        "\n",
        "if requested_toppings:\n",
        "    for requested_topping in requested_toppings:\n",
        "        print('Adding '+ requested_topping + '.')\n",
        "        print('\\nFinished making yor pizza!!')\n",
        "else:\n",
        "    print('Are you sure you want to make a plain pizza?')"
      ],
      "metadata": {
        "id": "s_0W3DsnUq02",
        "colab": {
          "base_uri": "https://localhost:8080/"
        },
        "outputId": "af72fcda-7bd1-42b6-87ea-0aad9daaafb5"
      },
      "execution_count": null,
      "outputs": [
        {
          "output_type": "stream",
          "name": "stdout",
          "text": [
            "Are you sure you want to make a plain pizza?\n"
          ]
        }
      ]
    },
    {
      "cell_type": "code",
      "source": [
        "# Exercise 11 - Using multiple lists\n",
        "available_toppings = ['mushrooms', 'olives', 'green peppers', 'pepperoni',\n",
        "                      'pineapple', 'extra cheese']\n",
        "requested_toppings = ['mushrooms', 'french fries', 'extra cheese', 'crab meat']\n",
        "\n",
        "for requested_topping in requested_toppings:\n",
        "    if requested_topping == 'french fries':\n",
        "        print(\"Sorry, we don't have french fries.\")\n",
        "    elif requested_topping == 'crab meat':\n",
        "        print(\"Sorry, we don't have crab meat.\")\n",
        "    else:\n",
        "        print('Adding '+ requested_topping + '.')\n",
        "\n",
        "print('\\nFinished making yor pizza!!')\n"
      ],
      "metadata": {
        "id": "j4EyZ_3KhSAR",
        "colab": {
          "base_uri": "https://localhost:8080/"
        },
        "outputId": "79dd4306-7851-4089-c38a-4ffa71004756"
      },
      "execution_count": null,
      "outputs": [
        {
          "output_type": "stream",
          "name": "stdout",
          "text": [
            "Adding mushrooms.\n",
            "Sorry, we don't have french fries.\n",
            "Adding extra cheese.\n",
            "Sorry, we don't have crab meat.\n",
            "\n",
            "Finished making yor pizza!!\n"
          ]
        }
      ]
    },
    {
      "cell_type": "code",
      "source": [
        "# Exercise 12 - Accessing the value using the key in dictionary\n",
        "alien_0 = {'color': 'green', 'points':5}\n",
        "\n",
        "# get the alien's color\n",
        "print(alien_0['color'])\n",
        "\n",
        "# get the alien's point\n",
        "print(alien_0['points'])"
      ],
      "metadata": {
        "id": "DmUQQo0li7bg",
        "colab": {
          "base_uri": "https://localhost:8080/"
        },
        "outputId": "630af8a2-7efa-4351-edd3-c58867ed20e0"
      },
      "execution_count": null,
      "outputs": [
        {
          "output_type": "stream",
          "name": "stdout",
          "text": [
            "green\n",
            "5\n"
          ]
        }
      ]
    },
    {
      "cell_type": "code",
      "source": [
        "# Start building the alien_0 dictionary from scratch\n",
        "alien_0 = {}\n",
        "alien_0['color']='green'\n",
        "alien_0['point']=5\n",
        "\n",
        "print(alien_0)"
      ],
      "metadata": {
        "id": "w1jfQOdDayLN",
        "colab": {
          "base_uri": "https://localhost:8080/"
        },
        "outputId": "7ad5aa12-4134-42c5-c1ec-d6634704b468"
      },
      "execution_count": null,
      "outputs": [
        {
          "output_type": "stream",
          "name": "stdout",
          "text": [
            "{'color': 'green', 'point': 5}\n"
          ]
        }
      ]
    },
    {
      "cell_type": "code",
      "source": [
        "alien_0"
      ],
      "metadata": {
        "colab": {
          "base_uri": "https://localhost:8080/"
        },
        "id": "emud4BEneaVW",
        "outputId": "fef29cf3-d93c-47d8-e469-680f74dafbb9"
      },
      "execution_count": null,
      "outputs": [
        {
          "output_type": "execute_result",
          "data": {
            "text/plain": [
              "{'color': 'green', 'point': 5}"
            ]
          },
          "metadata": {},
          "execution_count": 80
        }
      ]
    },
    {
      "cell_type": "code",
      "source": [
        "# Exercise 13 - extract the value from the dictionary\n",
        "# put in a variable called new_points\n",
        "# Print out the value\n",
        "\n",
        "#define alien_0\n",
        "alien_0 = {'color': 'green', 'points':5}\n",
        "\n",
        "#extract the point from the dictionary\n",
        "new_points=alien_0['points']\n",
        "\n",
        "#print the message\n",
        "print(\"You have just earn \"+str(new_points)+\" points.\")\n",
        "\n"
      ],
      "metadata": {
        "id": "Dg5C29oafPu5",
        "colab": {
          "base_uri": "https://localhost:8080/"
        },
        "outputId": "c5c2b818-3620-4f86-93c9-009901d9c1e8"
      },
      "execution_count": null,
      "outputs": [
        {
          "output_type": "stream",
          "name": "stdout",
          "text": [
            "You have just earn 5 points.\n"
          ]
        }
      ]
    },
    {
      "cell_type": "code",
      "source": [
        "# Exercise 14 - change the color value in the dictionary\n",
        "alien_0['color']='Indigo'\n",
        "\n",
        "# Print out the new color\n",
        "print(\"The alien is now \"+alien_0['color']+\".\")"
      ],
      "metadata": {
        "id": "aqLdYAec4UJi",
        "colab": {
          "base_uri": "https://localhost:8080/"
        },
        "outputId": "71eb8b94-e8af-4ca3-eb86-98459a113737"
      },
      "execution_count": null,
      "outputs": [
        {
          "output_type": "stream",
          "name": "stdout",
          "text": [
            "The alien is now Indigo.\n"
          ]
        }
      ]
    },
    {
      "cell_type": "code",
      "source": [
        "# Exercise 15 - change the value in the dictionary; using if-elif-else statement\n",
        "alien_0 = {'x_position': 0, 'y_position': 25, 'speed': 'fast'}\n",
        "\n",
        "# Move the alien to the right.\n",
        "# Determine how far to move the alien based on its current speed.\n",
        "\n",
        "if alien_0['speed']=='slow':\n",
        "    x_increment=1\n",
        "elif alien_0['speed']=='medium':\n",
        "    x_increment=2\n",
        "else:\n",
        "    x_increment=3\n",
        "\n",
        "# The new position is the old position plus the increment.\n",
        "alien_0['x_position']+=x_increment\n",
        "print(\"The alien new position now is \"+str(alien_0['x_position'])+\".\")\n",
        "print(alien_0)\n",
        "\n"
      ],
      "metadata": {
        "id": "vfDw_r_L5jPz",
        "colab": {
          "base_uri": "https://localhost:8080/"
        },
        "outputId": "7bd0b327-3975-41dd-c946-0a43dc8732e5"
      },
      "execution_count": null,
      "outputs": [
        {
          "output_type": "stream",
          "name": "stdout",
          "text": [
            "The alien new position now is 3.\n",
            "{'x_position': 3, 'y_position': 25, 'speed': 'fast'}\n"
          ]
        }
      ]
    },
    {
      "cell_type": "code",
      "source": [
        "# Exercise 16 - using del() function\n",
        "alien_0 = {'color': 'green', 'points': 5}\n",
        "print(alien_0)\n",
        "\n",
        "# Delete the points from the dictionary\n",
        "del alien_0['points']\n",
        "alien_0"
      ],
      "metadata": {
        "id": "efbBa0SB6hlj",
        "colab": {
          "base_uri": "https://localhost:8080/"
        },
        "outputId": "79bf94bd-8379-4c94-ccb7-bb8064817b33"
      },
      "execution_count": null,
      "outputs": [
        {
          "output_type": "stream",
          "name": "stdout",
          "text": [
            "{'color': 'green', 'points': 5}\n"
          ]
        },
        {
          "output_type": "execute_result",
          "data": {
            "text/plain": [
              "{'color': 'green'}"
            ]
          },
          "metadata": {},
          "execution_count": 103
        }
      ]
    },
    {
      "cell_type": "code",
      "source": [
        "# Exercise 17 - break dictionary into several lines\n",
        "fav_prog = {\n",
        "    'jen':'python',\n",
        "    'sarah':'c',\n",
        "    'edward':'ruby',\n",
        "    'phil':'python'\n",
        "}\n",
        "\n",
        "print(\"Phil's favorite language is \" +\n",
        "      fav_prog['phil'].title() +\n",
        "      \".\")"
      ],
      "metadata": {
        "id": "KtsGcBJC8MBy",
        "colab": {
          "base_uri": "https://localhost:8080/"
        },
        "outputId": "97a51783-0031-4068-b33e-404d6841d1dd"
      },
      "execution_count": null,
      "outputs": [
        {
          "output_type": "stream",
          "name": "stdout",
          "text": [
            "Phil's favorite language is Python.\n"
          ]
        }
      ]
    },
    {
      "cell_type": "code",
      "source": [
        "# Exercise 18 - print out the key-value pairs using item() function\n",
        "# using the for function\n",
        "\n",
        "for name, sub in fav_prog.items():\n",
        "     print(name.title() + \"'s favorite language is \" +\n",
        "           sub.title() +\n",
        "           \".\")\n"
      ],
      "metadata": {
        "colab": {
          "base_uri": "https://localhost:8080/"
        },
        "id": "piktzd1c9b7c",
        "outputId": "ce6ba1f4-fbb5-4dd9-a763-879550fd8e4e"
      },
      "execution_count": null,
      "outputs": [
        {
          "output_type": "stream",
          "name": "stdout",
          "text": [
            "Jen's favorite language is Python.\n",
            "Sarah's favorite language is C.\n",
            "Edward's favorite language is Ruby.\n",
            "Phil's favorite language is Python.\n"
          ]
        }
      ]
    },
    {
      "cell_type": "code",
      "source": [
        "# Exercise 19 - print out the key-value pairs using key() function\n",
        "favorite_languages = {\n",
        "    'jen': 'python',\n",
        "    'sarah': 'c',\n",
        "    'edward': 'ruby',\n",
        "    'phil': 'python',\n",
        "    }\n",
        "\n",
        "friends={'phil','sarah'}\n",
        "\n",
        "for name in fav_prog.keys():\n",
        "    if name in friends:\n",
        "        print(\"Hi,\" + name.title() + \", your favorite program is \" + fav_prog[name].title() + \"!\")\n",
        "\n"
      ],
      "metadata": {
        "id": "HDxDyGRj_LLh",
        "colab": {
          "base_uri": "https://localhost:8080/"
        },
        "outputId": "b42c024c-c06e-4f05-cf8d-4b7c2206a121"
      },
      "execution_count": null,
      "outputs": [
        {
          "output_type": "stream",
          "name": "stdout",
          "text": [
            "Hi,Sarah, your favorite program is C!\n",
            "Hi,Phil, your favorite program is Python!\n"
          ]
        }
      ]
    },
    {
      "cell_type": "code",
      "source": [
        "# Exercise 20 - print out the key-value pairs using not in function\n",
        "favorite_languages = {\n",
        "    'jen': 'python',\n",
        "    'sarah': 'c',\n",
        "    'edward': 'ruby',\n",
        "    'phil': 'python',\n",
        "    }\n",
        "\n",
        "if 'bernard' not in fav_prog.keys():\n",
        "    print(\"Please study hard!\")\n"
      ],
      "metadata": {
        "id": "2SnKUKMEAA8t",
        "colab": {
          "base_uri": "https://localhost:8080/"
        },
        "outputId": "47bae9d4-beb1-4414-da1b-bb125bc5838b"
      },
      "execution_count": null,
      "outputs": [
        {
          "output_type": "stream",
          "name": "stdout",
          "text": [
            "Please study hard!\n"
          ]
        }
      ]
    },
    {
      "cell_type": "code",
      "source": [
        "# Exercise 21 - Sort keys in order\n",
        "# Print out the message thanking them to take the poll\n",
        "favorite_languages = {\n",
        "    'jen': 'python',\n",
        "    'sarah': 'c',\n",
        "    'edward': 'ruby',\n",
        "    'phil': 'python',\n",
        "    }\n",
        "\n",
        "#Create a for loop in this case\n",
        "for name in sorted(favorite_languages):\n",
        "     print(name.title() + \", thank you for taking the poll\")\n",
        "\n",
        "#Use the sorted() to sort the keys name in alphabetical order\n",
        "#Print out the message thanking them to take the poll"
      ],
      "metadata": {
        "id": "6QBXlZM1Axk4",
        "colab": {
          "base_uri": "https://localhost:8080/"
        },
        "outputId": "9c4ccafc-3d26-49d8-91ed-10ffdb0d815f"
      },
      "execution_count": 7,
      "outputs": [
        {
          "output_type": "stream",
          "name": "stdout",
          "text": [
            "Edward, thank you for taking the poll\n",
            "Jen, thank you for taking the poll\n",
            "Phil, thank you for taking the poll\n",
            "Sarah, thank you for taking the poll\n"
          ]
        }
      ]
    },
    {
      "cell_type": "code",
      "source": [
        "# Exercise 22 - Sort values in order\n",
        "# remove redundant value using set() function\n",
        "favorite_languages = {\n",
        "    'jen': 'python',\n",
        "    'sarah': 'c',\n",
        "    'edward': 'ruby',\n",
        "    'phil': 'python',\n",
        "    }\n",
        "\n",
        "#Print an introductory message\n",
        "print(\"This following languages have been mentioned:\")\n",
        "\n",
        "#Create a for loop to print a message\n",
        "#Use the sorted() function to sort the values in reversal alphabetical order\n",
        "#Use set() function to remove redundant values\n",
        "\n",
        "for sub in sorted(set(favorite_languages.values()),reverse=True):\n",
        "    print(sub.title())"
      ],
      "metadata": {
        "id": "CGqvlY1-BQ55",
        "colab": {
          "base_uri": "https://localhost:8080/"
        },
        "outputId": "1377529b-48df-4b6e-f920-1ad656ff2f53"
      },
      "execution_count": 20,
      "outputs": [
        {
          "output_type": "stream",
          "name": "stdout",
          "text": [
            "This following languages have been mentioned:\n",
            "Ruby\n",
            "Python\n",
            "C\n"
          ]
        }
      ]
    },
    {
      "cell_type": "code",
      "source": [
        "range(30)\n"
      ],
      "metadata": {
        "colab": {
          "base_uri": "https://localhost:8080/"
        },
        "id": "w6F-kzmTwbbC",
        "outputId": "b28f9668-1991-4c7f-d8f3-c99ef10b577c"
      },
      "execution_count": null,
      "outputs": [
        {
          "output_type": "execute_result",
          "data": {
            "text/plain": [
              "range(0, 30)"
            ]
          },
          "metadata": {},
          "execution_count": 89
        }
      ]
    },
    {
      "cell_type": "code",
      "source": [
        "# Exercise 23 - append new data into dictionary using function\n",
        "# Make an empty list for storing aliens.\n",
        "aliens = []\n",
        "\n",
        "#Create a for loop to make 30 green aliens\n",
        "#Stoe in a variable named new_alien\n",
        "#Using the append() function\n",
        "\n",
        "for alien_number in range(30):\n",
        "    new_alien={'color':'green','points':5,'speed':'slow'}\n",
        "    aliens.append(new_alien)\n",
        "\n"
      ],
      "metadata": {
        "id": "CrP6r-jvBzht",
        "colab": {
          "base_uri": "https://localhost:8080/"
        },
        "outputId": "d6a76fa1-1807-49b0-f7c7-149c96c81236"
      },
      "execution_count": 24,
      "outputs": [
        {
          "output_type": "execute_result",
          "data": {
            "text/plain": [
              "[{'color': 'green', 'points': 5, 'speed': 'slow'},\n",
              " {'color': 'green', 'points': 5, 'speed': 'slow'},\n",
              " {'color': 'green', 'points': 5, 'speed': 'slow'},\n",
              " {'color': 'green', 'points': 5, 'speed': 'slow'},\n",
              " {'color': 'green', 'points': 5, 'speed': 'slow'},\n",
              " {'color': 'green', 'points': 5, 'speed': 'slow'},\n",
              " {'color': 'green', 'points': 5, 'speed': 'slow'},\n",
              " {'color': 'green', 'points': 5, 'speed': 'slow'},\n",
              " {'color': 'green', 'points': 5, 'speed': 'slow'},\n",
              " {'color': 'green', 'points': 5, 'speed': 'slow'},\n",
              " {'color': 'green', 'points': 5, 'speed': 'slow'},\n",
              " {'color': 'green', 'points': 5, 'speed': 'slow'},\n",
              " {'color': 'green', 'points': 5, 'speed': 'slow'},\n",
              " {'color': 'green', 'points': 5, 'speed': 'slow'},\n",
              " {'color': 'green', 'points': 5, 'speed': 'slow'},\n",
              " {'color': 'green', 'points': 5, 'speed': 'slow'},\n",
              " {'color': 'green', 'points': 5, 'speed': 'slow'},\n",
              " {'color': 'green', 'points': 5, 'speed': 'slow'},\n",
              " {'color': 'green', 'points': 5, 'speed': 'slow'},\n",
              " {'color': 'green', 'points': 5, 'speed': 'slow'},\n",
              " {'color': 'green', 'points': 5, 'speed': 'slow'},\n",
              " {'color': 'green', 'points': 5, 'speed': 'slow'},\n",
              " {'color': 'green', 'points': 5, 'speed': 'slow'},\n",
              " {'color': 'green', 'points': 5, 'speed': 'slow'},\n",
              " {'color': 'green', 'points': 5, 'speed': 'slow'},\n",
              " {'color': 'green', 'points': 5, 'speed': 'slow'},\n",
              " {'color': 'green', 'points': 5, 'speed': 'slow'},\n",
              " {'color': 'green', 'points': 5, 'speed': 'slow'},\n",
              " {'color': 'green', 'points': 5, 'speed': 'slow'},\n",
              " {'color': 'green', 'points': 5, 'speed': 'slow'}]"
            ]
          },
          "metadata": {},
          "execution_count": 24
        }
      ]
    },
    {
      "cell_type": "code",
      "source": [
        "#Create a for loop and if-elif statement\n",
        "for alien in aliens[0:3]:\n",
        "    if alien['color']=='green':\n",
        "        alien['color']='yellow'\n",
        "        alien['speed']='medium'\n",
        "        alien['point']=10\n",
        "    elif alien['color']=='yellow':\n",
        "        alien['color']='red'\n",
        "        alien['speed']='fast'\n",
        "        alien['point']=5"
      ],
      "metadata": {
        "id": "SqXaAQ6nPif5"
      },
      "execution_count": 25,
      "outputs": []
    },
    {
      "cell_type": "code",
      "source": [
        "#Show first 5 aliens using a for loop\n",
        "for alien in aliens[0:5]:\n",
        "    print(alien)\n"
      ],
      "metadata": {
        "colab": {
          "base_uri": "https://localhost:8080/"
        },
        "id": "0eP6qOLKP2ik",
        "outputId": "fdf03f17-7fb9-4af5-a949-62b42ee5fee8"
      },
      "execution_count": 27,
      "outputs": [
        {
          "output_type": "stream",
          "name": "stdout",
          "text": [
            "{'color': 'yellow', 'points': 5, 'speed': 'medium', 'point': 10}\n",
            "{'color': 'yellow', 'points': 5, 'speed': 'medium', 'point': 10}\n",
            "{'color': 'yellow', 'points': 5, 'speed': 'medium', 'point': 10}\n",
            "{'color': 'green', 'points': 5, 'speed': 'slow'}\n",
            "{'color': 'green', 'points': 5, 'speed': 'slow'}\n"
          ]
        }
      ]
    },
    {
      "cell_type": "code",
      "source": [
        "#Show how many aliens have been created using the len() function\n",
        "print(\"Total number of aliens: \"+str(len(aliens)))"
      ],
      "metadata": {
        "colab": {
          "base_uri": "https://localhost:8080/"
        },
        "id": "aPycKBu2QR4K",
        "outputId": "ace0a1af-347d-4c69-8301-dd8abbdf91d2"
      },
      "execution_count": 30,
      "outputs": [
        {
          "output_type": "stream",
          "name": "stdout",
          "text": [
            "Total number of aliens: 30\n"
          ]
        }
      ]
    },
    {
      "cell_type": "code",
      "source": [
        "# Exercise 24 - A list in the dictionary\n",
        "# Store information about a pizza being ordered.\n",
        "pizza = {\n",
        "    'crust': 'thick',\n",
        "    'toppings': ['mushrooms', 'extra cheese'],\n",
        "    }\n",
        "\n",
        "#Summarize the order.\n",
        "print(\"You ordered a \" + pizza['crust'] + \"-crust pizza with the following toppings:\")\n",
        "for topping in pizza['toppings']:\n",
        "    print(\"\\t\" + topping)"
      ],
      "metadata": {
        "id": "iA-z9NxRDixp",
        "colab": {
          "base_uri": "https://localhost:8080/"
        },
        "outputId": "094efca0-132b-4adc-e34a-d799dacddc9a"
      },
      "execution_count": 52,
      "outputs": [
        {
          "output_type": "stream",
          "name": "stdout",
          "text": [
            "You ordered a thick-crust pizza with the following toppings:\n",
            "\tmushrooms\n",
            "\textra cheese\n"
          ]
        }
      ]
    },
    {
      "cell_type": "code",
      "source": [
        "# Exercise 25 - a list in the dictionary\n",
        "favorite_languages = {\n",
        "    'jen': ['python','ruby'],\n",
        "    'sarah': 'c',\n",
        "    'edward': ['ruby','go'],\n",
        "    'phil': ['python','haskell'],\n",
        "    }\n",
        "\n",
        "#Create two for loops to print a message\n",
        "#Use items() function to access the key-value pair in dictionary\n",
        "#Use the keyword in\n",
        "\n",
        "for x,y in favorite_languages.items():\n",
        "    print(\"\\n\" + x.title() + \"'s favorite languages are:\")\n",
        "    for z in y:\n",
        "        print(\"\\t\" + z.title())"
      ],
      "metadata": {
        "id": "q0MODSGDFsgU",
        "colab": {
          "base_uri": "https://localhost:8080/"
        },
        "outputId": "4060b1d1-04f7-4a85-b248-e54cd450bc23"
      },
      "execution_count": 53,
      "outputs": [
        {
          "output_type": "stream",
          "name": "stdout",
          "text": [
            "\n",
            "Jen's favorite languages are:\n",
            "\tPython\n",
            "\tRuby\n",
            "\n",
            "Sarah's favorite languages are:\n",
            "\tC\n",
            "\n",
            "Edward's favorite languages are:\n",
            "\tRuby\n",
            "\tGo\n",
            "\n",
            "Phil's favorite languages are:\n",
            "\tPython\n",
            "\tHaskell\n"
          ]
        }
      ]
    },
    {
      "cell_type": "code",
      "source": [
        "# Exercise 26 - A dictionary in a dictionary\n",
        "users={\n",
        "    'aeinstein':{\n",
        "        'first':'albert',\n",
        "        'last':'einstein',\n",
        "        'location':'princeton',\n",
        "    },\n",
        "    'mcurie':{\n",
        "        'first':'marie',\n",
        "        'last':'curie',\n",
        "        'location':'paris',\n",
        "    },\n",
        "}\n",
        "\n",
        "#Create a for loop to print a message\n",
        "#Use items() function to access the key-value pair in dictionary\n",
        "\n",
        "for x,y in users.items():\n",
        "    print(\"\\nUsername: \" + x)\n",
        "    print(\"\\tFull name: \" + y['first'].title() + \" \" + y['last'].title())\n",
        "    print(\"\\tLocation: \" + y['location'].title())"
      ],
      "metadata": {
        "id": "wWibIDl0Gw2O",
        "colab": {
          "base_uri": "https://localhost:8080/"
        },
        "outputId": "ae65a559-e8bb-4e45-e6ba-d65834e71bc3"
      },
      "execution_count": 66,
      "outputs": [
        {
          "output_type": "stream",
          "name": "stdout",
          "text": [
            "\n",
            "Username: aeinstein\n",
            "\tFull name: Albert Einstein\n",
            "\tLocation: Princeton\n",
            "\n",
            "Username: mcurie\n",
            "\tFull name: Marie Curie\n",
            "\tLocation: Paris\n"
          ]
        }
      ]
    },
    {
      "cell_type": "markdown",
      "source": [
        "# **Part Three: User input and While Loops**"
      ],
      "metadata": {
        "id": "_hDk80RCcyCa"
      }
    },
    {
      "cell_type": "markdown",
      "source": [
        "# **Exercise 27: Using the input() function**"
      ],
      "metadata": {
        "id": "fw0uYi11dIR_"
      }
    },
    {
      "cell_type": "code",
      "source": [
        "# Use the input() function to get a response from user\n",
        "# Print out the message\n",
        "message = input(\"Tell me something, and I will repeat it back to you: \")\n",
        "print(message)\n",
        "\n",
        "# Use the input() function to get user's name\n",
        "# print out the message\n",
        "name = input(\"\\nPlease tell me your name: \")\n",
        "print(\"Hello \" + name.title() + \"!\")\n",
        "\n",
        "# Use the input() function to get user's first name\n",
        "# print out the message\n",
        "#name2 = input(\"\\nPlease tell me your first name: \")\n",
        "#print(name2.title())\n",
        "\n",
        "msg=\"\\nIf you tell us who you are, we can personalize a message just for you.\"\n",
        "msg+=\"\\nWhat is your first name? \"\n",
        "\n",
        "name3=input(msg)\n",
        "print(\"Hello \" + name3.title() + \"!\")\n"
      ],
      "metadata": {
        "id": "xY2CS0_CIEqr",
        "colab": {
          "base_uri": "https://localhost:8080/"
        },
        "outputId": "8c37ff06-c0a3-4b08-b21f-656644f7c73f"
      },
      "execution_count": 74,
      "outputs": [
        {
          "output_type": "stream",
          "name": "stdout",
          "text": [
            "Tell me something, and I will repeat it back to you: heya\n",
            "heya\n",
            "\n",
            "Please tell me your name: khairil\n",
            "Hello Khairil!\n",
            "\n",
            "If you tell us who you are, we can personalize a message just for you.\n",
            "What is your first name? mohd\n",
            "Hello Mohd!\n"
          ]
        }
      ]
    },
    {
      "cell_type": "code",
      "source": [
        "# Exercise 28: using int() to accept numerical input - True of False\n",
        "\n",
        "# Using the input() to get the age of users\n",
        "# Test the input prompt for age by inputting the following info\n",
        "# 1) 18\n",
        "# 2) Eighteen\n",
        "age = input(\"How old are you? \")\n",
        "\n",
        "# Logical test\n",
        "# Would prompt an error\n",
        "#age>=18\n",
        "\n",
        "# How to fix it?\n",
        "age=int(age)\n",
        "age>=18"
      ],
      "metadata": {
        "id": "uWq2dvg3JR6c",
        "colab": {
          "base_uri": "https://localhost:8080/"
        },
        "outputId": "dc710e14-d8b8-4708-da5a-e6ee575be633"
      },
      "execution_count": 82,
      "outputs": [
        {
          "name": "stdout",
          "output_type": "stream",
          "text": [
            "How old are you? 18\n"
          ]
        },
        {
          "output_type": "execute_result",
          "data": {
            "text/plain": [
              "True"
            ]
          },
          "metadata": {},
          "execution_count": 82
        }
      ]
    },
    {
      "cell_type": "code",
      "source": [
        "# Exercise 29 - using int()to accept numerical input and check for certain condition\n",
        "\n",
        "# Create an input() function to get the height in cm from users\n",
        "# Use the int() to convert the height to numeric\n",
        "msg2=\"\\nPlease state your height (in cm): \"\n",
        "\n",
        "height=input(msg2)\n",
        "height=int(height)\n",
        "\n",
        "# Checking for condition using if-else statement\n",
        "# Print the following message\n",
        "\n",
        "if height >= 90:\n",
        "    print(\"You are tall enough to ride!\")\n",
        "else:\n",
        "    print(\"You'll need to drink more milk to grow taller to ride!\")"
      ],
      "metadata": {
        "id": "XR0IMpnzK7Ne",
        "colab": {
          "base_uri": "https://localhost:8080/"
        },
        "outputId": "1ee6b58d-ea18-4a2d-e800-a5e6c9e3f990"
      },
      "execution_count": 87,
      "outputs": [
        {
          "output_type": "stream",
          "name": "stdout",
          "text": [
            "\n",
            "Please state your height (in cm): 67\n",
            "You'll need to drink more milk to grow taller to ride!\n"
          ]
        }
      ]
    },
    {
      "cell_type": "code",
      "source": [
        "# Exercise 30 - The modulo operator to print message\n",
        "\n",
        "# Use the input() and int() function to get a number from user\n",
        "number=int(input(\"Please state any integer number you like: \"))\n",
        "\n",
        "# Create an if-else statement to check whether the number given is an odd or even number\n",
        "# Use the modulo sign to check for odd and even condition\n",
        "if number%2 == 0:\n",
        "    print(\"It is even number!\")\n",
        "else:\n",
        "    print(\"It is odd number!\")"
      ],
      "metadata": {
        "id": "x9OlZPDYL2ne",
        "colab": {
          "base_uri": "https://localhost:8080/"
        },
        "outputId": "34604a54-6af3-4e0e-d692-1e0552337e9a"
      },
      "execution_count": 93,
      "outputs": [
        {
          "output_type": "stream",
          "name": "stdout",
          "text": [
            "Please state any integer number you like: 3\n",
            "It is odd number!\n"
          ]
        }
      ]
    },
    {
      "cell_type": "code",
      "source": [
        "# Exercise 31: While loop\n",
        "\n",
        "# Define the current_number as 1\n",
        "current_number = 1\n",
        "\n",
        "# Use the while loop to increase the number\n",
        "# Print out the incremented number\n",
        "while current_number <= 5:\n",
        "    print(current_number)\n",
        "    current_number+=1\n"
      ],
      "metadata": {
        "colab": {
          "base_uri": "https://localhost:8080/"
        },
        "id": "jKiSxydxkRaB",
        "outputId": "b3ff7837-d545-4115-f311-7bb16d2c3748"
      },
      "execution_count": 94,
      "outputs": [
        {
          "output_type": "stream",
          "name": "stdout",
          "text": [
            "1\n",
            "2\n",
            "3\n",
            "4\n",
            "5\n"
          ]
        }
      ]
    },
    {
      "cell_type": "code",
      "source": [
        "# Exercise 32: let user choose when to quit\n",
        "\n",
        "# Create a prompt message\n",
        "msg=\"\\nTell me something, and I will repeat it back to you:\"\n",
        "msg+=\"\\nEnter 'quit' to end the program.\"\n",
        "\n",
        "# Define an empty message\n",
        "message = \" \"\n",
        "\n",
        "# Create a while loop to continuously getting response from users\n",
        "# Quit the while loop if user input 'quit'\n",
        "while message != 'quit':\n",
        "    message=input(msg)\n",
        "    if message=='quit':\n",
        "        print(message)\n"
      ],
      "metadata": {
        "colab": {
          "base_uri": "https://localhost:8080/"
        },
        "id": "WA4upfXglHiy",
        "outputId": "e53050a2-d4b7-4539-b59f-ffc4d9a00df4"
      },
      "execution_count": 99,
      "outputs": [
        {
          "output_type": "stream",
          "name": "stdout",
          "text": [
            "\n",
            "Tell me something, and I will repeat it back to you:\n",
            "Enter 'quit' to end the program.heya\n",
            "\n",
            "Tell me something, and I will repeat it back to you:\n",
            "Enter 'quit' to end the program.quit\n",
            "quit\n"
          ]
        }
      ]
    },
    {
      "cell_type": "code",
      "source": [
        "# Excersie 33: Using a flag as a signal\n",
        "\n",
        "# Create a prompt message\n",
        "prompt = \"\\nTell me something, and I will repeat it back to you:\"\n",
        "prompt += \"\\nEnter 'quit' to end the program. \"\n",
        "\n",
        "# Define a flag\n",
        "active = True #the flag\n",
        "\n",
        "# Incorporate the flag in the while loop\n",
        "while active:\n",
        "    message=input(prompt)\n",
        "    if message=='quit':\n",
        "        active= False\n",
        "    else:\n",
        "        print(message)\n"
      ],
      "metadata": {
        "colab": {
          "base_uri": "https://localhost:8080/"
        },
        "id": "TRA1toGqmz2z",
        "outputId": "35a91ca3-5e06-4d16-c81f-68c5e129d9c4"
      },
      "execution_count": 100,
      "outputs": [
        {
          "name": "stdout",
          "output_type": "stream",
          "text": [
            "\n",
            "Tell me something, and I will repeat it back to you:\n",
            "Enter 'quit' to end the program. heya\n",
            "heya\n",
            "\n",
            "Tell me something, and I will repeat it back to you:\n",
            "Enter 'quit' to end the program. hoi\n",
            "hoi\n",
            "\n",
            "Tell me something, and I will repeat it back to you:\n",
            "Enter 'quit' to end the program. quit\n"
          ]
        }
      ]
    },
    {
      "cell_type": "code",
      "source": [
        "# Exercise 34: Using break to exit loop\n",
        "\n",
        "# Create a prompt message\n",
        "prompt = \"\\nPlease enter the name of a city you have visited:\"\n",
        "prompt += \"\\n(Enter 'quit' when you are finished.) \"\n",
        "\n",
        "# Create a while loop and incorporate a flag\n",
        "# Print the message\n",
        "while True:\n",
        "    city=input(prompt)\n",
        "    if city=='quit':\n",
        "        break\n",
        "    else:\n",
        "        print(\"I'd love to go to \"+city.title()+\"!\")"
      ],
      "metadata": {
        "colab": {
          "base_uri": "https://localhost:8080/"
        },
        "id": "1SnyVC2inixE",
        "outputId": "a4505070-5f56-4ffc-db18-07d4796a61eb"
      },
      "execution_count": 101,
      "outputs": [
        {
          "name": "stdout",
          "output_type": "stream",
          "text": [
            "\n",
            "Please enter the name of a city you have visited:\n",
            "(Enter 'quit' when you are finished.) ghana\n",
            "I'd love to go to Ghana!\n",
            "\n",
            "Please enter the name of a city you have visited:\n",
            "(Enter 'quit' when you are finished.) guara\n",
            "I'd love to go to Guara!\n",
            "\n",
            "Please enter the name of a city you have visited:\n",
            "(Enter 'quit' when you are finished.) quit\n"
          ]
        }
      ]
    }
  ]
}